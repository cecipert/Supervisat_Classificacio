{
 "cells": [
  {
   "cell_type": "markdown",
   "id": "0cf60765",
   "metadata": {},
   "source": [
    "# S13 T01 Aprendizaje supervisado: Clasificación"
   ]
  },
  {
   "cell_type": "code",
   "execution_count": 163,
   "id": "060165f2",
   "metadata": {},
   "outputs": [],
   "source": [
    "import pandas as pd\n",
    "import numpy as np\n",
    "import matplotlib.pyplot as plt\n",
    "import seaborn as sns\n",
    "\n",
    "from sklearn.ensemble import AdaBoostClassifier\n",
    "from sklearn.model_selection import train_test_split # Import train_test_split function\n",
    "from sklearn import metrics #Import scikit-learn metrics module for accuracy calculation\n",
    "from sklearn.tree import export_graphviz\n",
    "from six import StringIO  \n",
    "from IPython.display import Image  \n",
    "import pydotplus\n",
    "from sklearn.preprocessing import StandardScaler\n",
    "from sklearn.preprocessing import Normalizer\n",
    "from sklearn.decomposition import PCA\n",
    "\n",
    "from sklearn.preprocessing import LabelEncoder\n",
    "from sklearn.neural_network import MLPClassifier\n",
    "\n",
    "from lazypredict.Supervised import LazyClassifier\n",
    "from sklearn.neighbors import KNeighborsClassifier\n",
    "from sklearn.metrics import classification_report, confusion_matrix\n",
    "from sklearn.linear_model import LogisticRegression\n",
    "from sklearn.metrics import f1_score\n",
    "from sklearn.metrics import average_precision_score\n",
    "from sklearn.metrics import plot_confusion_matrix\n",
    "from sklearn.metrics import plot_roc_curve\n",
    "\n",
    "from sklearn.model_selection import cross_val_score\n",
    "from sklearn.model_selection import StratifiedKFold\n",
    "\n",
    "from imblearn.over_sampling import SMOTE"
   ]
  },
  {
   "cell_type": "code",
   "execution_count": 2,
   "id": "bfef7f4a",
   "metadata": {},
   "outputs": [
    {
     "name": "stdout",
     "output_type": "stream",
     "text": [
      "<class 'pandas.core.frame.DataFrame'>\n",
      "Int64Index: 160697 entries, 497550 to 521096\n",
      "Data columns (total 30 columns):\n",
      " #   Column             Non-Null Count   Dtype  \n",
      "---  ------             --------------   -----  \n",
      " 0   Unnamed: 0         160697 non-null  int64  \n",
      " 1   Year               160697 non-null  int64  \n",
      " 2   Month              160697 non-null  int64  \n",
      " 3   DayofMonth         160697 non-null  int64  \n",
      " 4   DayOfWeek          160697 non-null  int64  \n",
      " 5   DepTime            160697 non-null  float64\n",
      " 6   CRSDepTime         160697 non-null  int64  \n",
      " 7   ArrTime            160697 non-null  float64\n",
      " 8   CRSArrTime         160697 non-null  int64  \n",
      " 9   UniqueCarrier      160697 non-null  object \n",
      " 10  FlightNum          160697 non-null  int64  \n",
      " 11  TailNum            160697 non-null  object \n",
      " 12  ActualElapsedTime  160697 non-null  float64\n",
      " 13  CRSElapsedTime     160697 non-null  float64\n",
      " 14  AirTime            160697 non-null  float64\n",
      " 15  ArrDelay           160697 non-null  float64\n",
      " 16  DepDelay           160697 non-null  float64\n",
      " 17  Origin             160697 non-null  object \n",
      " 18  Dest               160697 non-null  object \n",
      " 19  Distance           160697 non-null  int64  \n",
      " 20  TaxiIn             160697 non-null  float64\n",
      " 21  TaxiOut            160697 non-null  float64\n",
      " 22  Cancelled          160697 non-null  int64  \n",
      " 23  CancellationCode   160697 non-null  object \n",
      " 24  Diverted           160697 non-null  int64  \n",
      " 25  CarrierDelay       103957 non-null  float64\n",
      " 26  WeatherDelay       103957 non-null  float64\n",
      " 27  NASDelay           103957 non-null  float64\n",
      " 28  SecurityDelay      103957 non-null  float64\n",
      " 29  LateAircraftDelay  103957 non-null  float64\n",
      "dtypes: float64(14), int64(11), object(5)\n",
      "memory usage: 38.0+ MB\n",
      "None\n"
     ]
    },
    {
     "data": {
      "text/plain": [
       "497550    -62\n",
       "1731259   -56\n",
       "1916451   -53\n",
       "47306     -51\n",
       "182763    -49\n",
       "463812    -48\n",
       "279819    -47\n",
       "1618263   -46\n",
       "169549    -46\n",
       "1521279   -45\n",
       "1715533   -44\n",
       "787613    -44\n",
       "1726897   -43\n",
       "254151    -43\n",
       "809947    -42\n",
       "Name: ArrDelay, dtype: float64"
      ]
     },
     "execution_count": 2,
     "metadata": {},
     "output_type": "execute_result"
    }
   ],
   "source": [
    "# Air Delay data has integer numbers\n",
    "pd.options.display.float_format = '{:.0f}'.format\n",
    "\n",
    "# Read the data into a dataframe\n",
    "df_leido = pd.read_csv('DelayedFlights.csv', sep=',')\n",
    "\n",
    "# Cancelled and diverted flights are not considered delayed o not delayed. Thay need a separate analisys\n",
    "df_leido = df_leido[(df_leido.Cancelled == 0) & (df_leido.Diverted == 0)]\n",
    "\n",
    "# The index needs to be reset because I deleted lines\n",
    "df_leido.reindex()\n",
    "\n",
    "# Use a sample so that the memory does not overflow\n",
    "# df_raw = df_leido.sample(frac=0.1, random_state=9)\n",
    "# Instead of this sample I want a sample where all delays are being represented\n",
    "\n",
    "# Sort by ArrDelay and then make a sistematic sample\n",
    "df_leido = df_leido.sort_values(by=['ArrDelay'])\n",
    "df_leido.reindex()\n",
    "\n",
    "np.random.seed(10)\n",
    "pop = len(df_leido)\n",
    "sample_size = 150000\n",
    "# calculate the step\n",
    "step = int(pop / sample_size)\n",
    "start = np.random.randint(step)\n",
    "df_raw = df_leido.iloc[start::step]\n",
    "\n",
    "\n",
    "\n",
    "print(df_raw.info())\n",
    "\n",
    "# Look at the first rows\n",
    "df_raw.ArrDelay.head(15)"
   ]
  },
  {
   "cell_type": "markdown",
   "id": "3509d1f4",
   "metadata": {},
   "source": [
    "### This dataset is composed by the following variables:\n",
    "1. Year 2008\n",
    "2. Month 1-12\n",
    "3. DayofMonth 1-31\n",
    "4. DayOfWeek 1 (Monday) - 7 (Sunday)\n",
    "5. DepTime actual departure time (local, hhmm)\n",
    "6. CRSDepTime scheduled departure time (local, hhmm)\n",
    "7. ArrTime actual arrival time (local, hhmm)\n",
    "8. CRSArrTime scheduled arrival time (local, hhmm)\n",
    "9. UniqueCarrier unique carrier code\n",
    "10. FlightNum flight number\n",
    "11. TailNum plane tail number: aircraft registration, unique aircraft identifier\n",
    "12. ActualElapsedTime in minutes\n",
    "13. vCRSElapsedTime in minutes\n",
    "14. AirTime in minutes\n",
    "15. ArrDelay arrival delay, in minutes: A flight is counted as \"on time\" if it operated less than 15 minutes later the scheduled time shown in the carriers' Computerized Reservations Systems (CRS).\n",
    "16. DepDelay departure delay, in minutes\n",
    "17. Origin origin IATA airport code\n",
    "18. Dest destination IATA airport code\n",
    "19. Distance in miles\n",
    "20. TaxiIn taxi in time, in minutes\n",
    "21. TaxiOut taxi out time in minutes\n",
    "22. Cancelled *was the flight cancelled\n",
    "23. CancellationCode reason for cancellation (A = carrier, B = weather, C = NAS, D = security)\n",
    "24. Diverted 1 = yes, 0 = no\n",
    "25. CarrierDelay in minutes: Carrier delay is within the control of the air carrier. Examples of occurrences that may determine carrier delay are: aircraft cleaning, aircraft damage, awaiting the arrival of connecting passengers or crew, baggage, bird strike, cargo loading, catering, computer, outage-carrier equipment, crew legality (pilot or attendant rest), damage by hazardous goods, engineering inspection, fueling, handling disabled passengers, late crew, lavatory servicing, maintenance, oversales, potable water servicing, removal of unruly passenger, slow boarding or seating, stowing carry-on baggage, weight and balance delays.\n",
    "26. WeatherDelay in minutes: Weather delay is caused by extreme or hazardous weather conditions that are forecasted or manifest themselves on point of departure, enroute, or on point of arrival.\n",
    "27. NASDelay in minutes: Delay that is within the control of the National Airspace System (NAS) may include: non-extreme weather conditions, airport operations, heavy traffic volume, air traffic control, etc.\n",
    "28. SecurityDelay in minutes: Security delay is caused by evacuation of a terminal or concourse, re-boarding of aircraft because of security breach, inoperative screening equipment and/or long lines in excess of 29 minutes at screening areas.\n",
    "29. LateAircraftDelay in minutes: Arrival delay at an airport due to the late arrival of the same aircraft at a previous airport. The ripple effect of an earlier delay at downstream airports is referred to as delay propagation."
   ]
  },
  {
   "cell_type": "code",
   "execution_count": 3,
   "id": "fcaa3fc4",
   "metadata": {},
   "outputs": [],
   "source": [
    "# drop variables with no information\n",
    "df_raw.drop(\"Unnamed: 0\",1, inplace=True) # Vacío\n",
    "df_raw.drop(\"Year\",1, inplace=True) # Son todos datos del mismo año"
   ]
  },
  {
   "cell_type": "code",
   "execution_count": 4,
   "id": "6d9575eb",
   "metadata": {},
   "outputs": [
    {
     "data": {
      "text/html": [
       "<div>\n",
       "<style scoped>\n",
       "    .dataframe tbody tr th:only-of-type {\n",
       "        vertical-align: middle;\n",
       "    }\n",
       "\n",
       "    .dataframe tbody tr th {\n",
       "        vertical-align: top;\n",
       "    }\n",
       "\n",
       "    .dataframe thead th {\n",
       "        text-align: right;\n",
       "    }\n",
       "</style>\n",
       "<table border=\"1\" class=\"dataframe\">\n",
       "  <thead>\n",
       "    <tr style=\"text-align: right;\">\n",
       "      <th></th>\n",
       "      <th>Month</th>\n",
       "      <th>DayOfWeek</th>\n",
       "      <th>DepTime</th>\n",
       "      <th>CRSDepTime</th>\n",
       "      <th>ArrTime</th>\n",
       "      <th>CRSArrTime</th>\n",
       "      <th>ActualElapsedTime</th>\n",
       "      <th>CRSElapsedTime</th>\n",
       "      <th>AirTime</th>\n",
       "      <th>ArrDelay</th>\n",
       "      <th>DepDelay</th>\n",
       "      <th>Distance</th>\n",
       "      <th>TaxiIn</th>\n",
       "      <th>TaxiOut</th>\n",
       "      <th>CarrierDelay</th>\n",
       "      <th>WeatherDelay</th>\n",
       "      <th>NASDelay</th>\n",
       "      <th>SecurityDelay</th>\n",
       "      <th>LateAircraftDelay</th>\n",
       "    </tr>\n",
       "  </thead>\n",
       "  <tbody>\n",
       "    <tr>\n",
       "      <th>497550</th>\n",
       "      <td>3</td>\n",
       "      <td>7</td>\n",
       "      <td>2127</td>\n",
       "      <td>2120</td>\n",
       "      <td>438</td>\n",
       "      <td>540</td>\n",
       "      <td>251</td>\n",
       "      <td>320</td>\n",
       "      <td>233</td>\n",
       "      <td>-62</td>\n",
       "      <td>7</td>\n",
       "      <td>2148</td>\n",
       "      <td>8</td>\n",
       "      <td>10</td>\n",
       "      <td>nan</td>\n",
       "      <td>nan</td>\n",
       "      <td>nan</td>\n",
       "      <td>nan</td>\n",
       "      <td>nan</td>\n",
       "    </tr>\n",
       "    <tr>\n",
       "      <th>1731259</th>\n",
       "      <td>11</td>\n",
       "      <td>4</td>\n",
       "      <td>1554</td>\n",
       "      <td>1545</td>\n",
       "      <td>1834</td>\n",
       "      <td>1930</td>\n",
       "      <td>280</td>\n",
       "      <td>345</td>\n",
       "      <td>254</td>\n",
       "      <td>-56</td>\n",
       "      <td>9</td>\n",
       "      <td>1989</td>\n",
       "      <td>6</td>\n",
       "      <td>20</td>\n",
       "      <td>nan</td>\n",
       "      <td>nan</td>\n",
       "      <td>nan</td>\n",
       "      <td>nan</td>\n",
       "      <td>nan</td>\n",
       "    </tr>\n",
       "    <tr>\n",
       "      <th>1916451</th>\n",
       "      <td>12</td>\n",
       "      <td>2</td>\n",
       "      <td>1815</td>\n",
       "      <td>1805</td>\n",
       "      <td>2057</td>\n",
       "      <td>2150</td>\n",
       "      <td>342</td>\n",
       "      <td>405</td>\n",
       "      <td>321</td>\n",
       "      <td>-53</td>\n",
       "      <td>10</td>\n",
       "      <td>2465</td>\n",
       "      <td>3</td>\n",
       "      <td>18</td>\n",
       "      <td>nan</td>\n",
       "      <td>nan</td>\n",
       "      <td>nan</td>\n",
       "      <td>nan</td>\n",
       "      <td>nan</td>\n",
       "    </tr>\n",
       "    <tr>\n",
       "      <th>47306</th>\n",
       "      <td>1</td>\n",
       "      <td>4</td>\n",
       "      <td>1945</td>\n",
       "      <td>1935</td>\n",
       "      <td>2104</td>\n",
       "      <td>2155</td>\n",
       "      <td>139</td>\n",
       "      <td>200</td>\n",
       "      <td>104</td>\n",
       "      <td>-51</td>\n",
       "      <td>10</td>\n",
       "      <td>766</td>\n",
       "      <td>7</td>\n",
       "      <td>28</td>\n",
       "      <td>nan</td>\n",
       "      <td>nan</td>\n",
       "      <td>nan</td>\n",
       "      <td>nan</td>\n",
       "      <td>nan</td>\n",
       "    </tr>\n",
       "    <tr>\n",
       "      <th>182763</th>\n",
       "      <td>1</td>\n",
       "      <td>5</td>\n",
       "      <td>1636</td>\n",
       "      <td>1630</td>\n",
       "      <td>1931</td>\n",
       "      <td>2020</td>\n",
       "      <td>295</td>\n",
       "      <td>350</td>\n",
       "      <td>266</td>\n",
       "      <td>-49</td>\n",
       "      <td>6</td>\n",
       "      <td>1989</td>\n",
       "      <td>4</td>\n",
       "      <td>25</td>\n",
       "      <td>nan</td>\n",
       "      <td>nan</td>\n",
       "      <td>nan</td>\n",
       "      <td>nan</td>\n",
       "      <td>nan</td>\n",
       "    </tr>\n",
       "    <tr>\n",
       "      <th>...</th>\n",
       "      <td>...</td>\n",
       "      <td>...</td>\n",
       "      <td>...</td>\n",
       "      <td>...</td>\n",
       "      <td>...</td>\n",
       "      <td>...</td>\n",
       "      <td>...</td>\n",
       "      <td>...</td>\n",
       "      <td>...</td>\n",
       "      <td>...</td>\n",
       "      <td>...</td>\n",
       "      <td>...</td>\n",
       "      <td>...</td>\n",
       "      <td>...</td>\n",
       "      <td>...</td>\n",
       "      <td>...</td>\n",
       "      <td>...</td>\n",
       "      <td>...</td>\n",
       "      <td>...</td>\n",
       "    </tr>\n",
       "    <tr>\n",
       "      <th>517183</th>\n",
       "      <td>3</td>\n",
       "      <td>7</td>\n",
       "      <td>258</td>\n",
       "      <td>705</td>\n",
       "      <td>809</td>\n",
       "      <td>1220</td>\n",
       "      <td>191</td>\n",
       "      <td>195</td>\n",
       "      <td>159</td>\n",
       "      <td>1189</td>\n",
       "      <td>1193</td>\n",
       "      <td>1399</td>\n",
       "      <td>5</td>\n",
       "      <td>27</td>\n",
       "      <td>5</td>\n",
       "      <td>0</td>\n",
       "      <td>0</td>\n",
       "      <td>0</td>\n",
       "      <td>1184</td>\n",
       "    </tr>\n",
       "    <tr>\n",
       "      <th>1655337</th>\n",
       "      <td>11</td>\n",
       "      <td>6</td>\n",
       "      <td>900</td>\n",
       "      <td>1220</td>\n",
       "      <td>1409</td>\n",
       "      <td>1739</td>\n",
       "      <td>189</td>\n",
       "      <td>199</td>\n",
       "      <td>170</td>\n",
       "      <td>1230</td>\n",
       "      <td>1240</td>\n",
       "      <td>1454</td>\n",
       "      <td>4</td>\n",
       "      <td>15</td>\n",
       "      <td>1230</td>\n",
       "      <td>0</td>\n",
       "      <td>0</td>\n",
       "      <td>0</td>\n",
       "      <td>0</td>\n",
       "    </tr>\n",
       "    <tr>\n",
       "      <th>1025817</th>\n",
       "      <td>6</td>\n",
       "      <td>1</td>\n",
       "      <td>1044</td>\n",
       "      <td>1317</td>\n",
       "      <td>1532</td>\n",
       "      <td>1803</td>\n",
       "      <td>168</td>\n",
       "      <td>166</td>\n",
       "      <td>139</td>\n",
       "      <td>1289</td>\n",
       "      <td>1287</td>\n",
       "      <td>1175</td>\n",
       "      <td>8</td>\n",
       "      <td>21</td>\n",
       "      <td>1165</td>\n",
       "      <td>0</td>\n",
       "      <td>2</td>\n",
       "      <td>0</td>\n",
       "      <td>122</td>\n",
       "    </tr>\n",
       "    <tr>\n",
       "      <th>1027010</th>\n",
       "      <td>6</td>\n",
       "      <td>1</td>\n",
       "      <td>1258</td>\n",
       "      <td>1420</td>\n",
       "      <td>1753</td>\n",
       "      <td>1929</td>\n",
       "      <td>175</td>\n",
       "      <td>189</td>\n",
       "      <td>159</td>\n",
       "      <td>1344</td>\n",
       "      <td>1358</td>\n",
       "      <td>1300</td>\n",
       "      <td>5</td>\n",
       "      <td>11</td>\n",
       "      <td>1344</td>\n",
       "      <td>0</td>\n",
       "      <td>0</td>\n",
       "      <td>0</td>\n",
       "      <td>0</td>\n",
       "    </tr>\n",
       "    <tr>\n",
       "      <th>521096</th>\n",
       "      <td>3</td>\n",
       "      <td>5</td>\n",
       "      <td>705</td>\n",
       "      <td>615</td>\n",
       "      <td>811</td>\n",
       "      <td>721</td>\n",
       "      <td>66</td>\n",
       "      <td>66</td>\n",
       "      <td>47</td>\n",
       "      <td>1490</td>\n",
       "      <td>1490</td>\n",
       "      <td>200</td>\n",
       "      <td>5</td>\n",
       "      <td>14</td>\n",
       "      <td>1490</td>\n",
       "      <td>0</td>\n",
       "      <td>0</td>\n",
       "      <td>0</td>\n",
       "      <td>0</td>\n",
       "    </tr>\n",
       "  </tbody>\n",
       "</table>\n",
       "<p>160697 rows × 19 columns</p>\n",
       "</div>"
      ],
      "text/plain": [
       "         Month  DayOfWeek  DepTime  CRSDepTime  ArrTime  CRSArrTime  \\\n",
       "497550       3          7     2127        2120      438         540   \n",
       "1731259     11          4     1554        1545     1834        1930   \n",
       "1916451     12          2     1815        1805     2057        2150   \n",
       "47306        1          4     1945        1935     2104        2155   \n",
       "182763       1          5     1636        1630     1931        2020   \n",
       "...        ...        ...      ...         ...      ...         ...   \n",
       "517183       3          7      258         705      809        1220   \n",
       "1655337     11          6      900        1220     1409        1739   \n",
       "1025817      6          1     1044        1317     1532        1803   \n",
       "1027010      6          1     1258        1420     1753        1929   \n",
       "521096       3          5      705         615      811         721   \n",
       "\n",
       "         ActualElapsedTime  CRSElapsedTime  AirTime  ArrDelay  DepDelay  \\\n",
       "497550                 251             320      233       -62         7   \n",
       "1731259                280             345      254       -56         9   \n",
       "1916451                342             405      321       -53        10   \n",
       "47306                  139             200      104       -51        10   \n",
       "182763                 295             350      266       -49         6   \n",
       "...                    ...             ...      ...       ...       ...   \n",
       "517183                 191             195      159      1189      1193   \n",
       "1655337                189             199      170      1230      1240   \n",
       "1025817                168             166      139      1289      1287   \n",
       "1027010                175             189      159      1344      1358   \n",
       "521096                  66              66       47      1490      1490   \n",
       "\n",
       "         Distance  TaxiIn  TaxiOut  CarrierDelay  WeatherDelay  NASDelay  \\\n",
       "497550       2148       8       10           nan           nan       nan   \n",
       "1731259      1989       6       20           nan           nan       nan   \n",
       "1916451      2465       3       18           nan           nan       nan   \n",
       "47306         766       7       28           nan           nan       nan   \n",
       "182763       1989       4       25           nan           nan       nan   \n",
       "...           ...     ...      ...           ...           ...       ...   \n",
       "517183       1399       5       27             5             0         0   \n",
       "1655337      1454       4       15          1230             0         0   \n",
       "1025817      1175       8       21          1165             0         2   \n",
       "1027010      1300       5       11          1344             0         0   \n",
       "521096        200       5       14          1490             0         0   \n",
       "\n",
       "         SecurityDelay  LateAircraftDelay  \n",
       "497550             nan                nan  \n",
       "1731259            nan                nan  \n",
       "1916451            nan                nan  \n",
       "47306              nan                nan  \n",
       "182763             nan                nan  \n",
       "...                ...                ...  \n",
       "517183               0               1184  \n",
       "1655337              0                  0  \n",
       "1025817              0                122  \n",
       "1027010              0                  0  \n",
       "521096               0                  0  \n",
       "\n",
       "[160697 rows x 19 columns]"
      ]
     },
     "execution_count": 4,
     "metadata": {},
     "output_type": "execute_result"
    }
   ],
   "source": [
    "# Drop columns already analized in S12\n",
    "df_raw.drop(['Cancelled','Diverted'],1, inplace=True)\n",
    "df_raw.drop([\"DayofMonth\", 'FlightNum', 'TailNum', 'Origin', 'Dest', 'UniqueCarrier', 'CancellationCode'], axis=1, inplace=True) \n",
    "\n",
    "df_raw"
   ]
  },
  {
   "cell_type": "code",
   "execution_count": 5,
   "id": "fef6d9d6",
   "metadata": {},
   "outputs": [
    {
     "data": {
      "image/png": "[encoded data removed]",
      "text/plain": [
       "<Figure size 1584x792 with 2 Axes>"
      ]
     },
     "metadata": {
      "needs_background": "light"
     },
     "output_type": "display_data"
    }
   ],
   "source": [
    "# what´s the realtion between variables?\n",
    "correlac = df_raw.corr()\n",
    "mascara = np.triu(correlac)\n",
    "f, ax = plt.subplots(figsize=(22, 11))\n",
    "sns.heatmap(correlac, square=True, mask=mascara, annot=True, cmap='coolwarm', vmin=-1, vmax=1);\n",
    "ax.set_title('Correlation heatmap')\n",
    "plt.show()"
   ]
  },
  {
   "cell_type": "code",
   "execution_count": 6,
   "id": "fa2b3bb3",
   "metadata": {},
   "outputs": [],
   "source": [
    "# Create a copy in case I need data I delete\n",
    "df = df_raw.copy()  # por default deep es True, con lo cual los cambios en df no alteran df_raw"
   ]
  },
  {
   "cell_type": "markdown",
   "id": "c7c4c765",
   "metadata": {},
   "source": [
    "\"Correlated Attributes: Some algorithms degrade in importance with the existence of highly correlated attributes. Pairwise attributes with high correlation can be identified and the most correlated attributes can be removed from the data.\""
   ]
  },
  {
   "cell_type": "code",
   "execution_count": 7,
   "id": "9868e63c",
   "metadata": {},
   "outputs": [
    {
     "data": {
      "text/html": [
       "<div>\n",
       "<style scoped>\n",
       "    .dataframe tbody tr th:only-of-type {\n",
       "        vertical-align: middle;\n",
       "    }\n",
       "\n",
       "    .dataframe tbody tr th {\n",
       "        vertical-align: top;\n",
       "    }\n",
       "\n",
       "    .dataframe thead th {\n",
       "        text-align: right;\n",
       "    }\n",
       "</style>\n",
       "<table border=\"1\" class=\"dataframe\">\n",
       "  <thead>\n",
       "    <tr style=\"text-align: right;\">\n",
       "      <th></th>\n",
       "      <th>Month</th>\n",
       "      <th>DayOfWeek</th>\n",
       "      <th>DepTime</th>\n",
       "      <th>ArrTime</th>\n",
       "      <th>ArrDelay</th>\n",
       "      <th>DepDelay</th>\n",
       "      <th>Distance</th>\n",
       "      <th>TaxiIn</th>\n",
       "      <th>TaxiOut</th>\n",
       "      <th>CarrierDelay</th>\n",
       "      <th>WeatherDelay</th>\n",
       "      <th>NASDelay</th>\n",
       "      <th>SecurityDelay</th>\n",
       "      <th>LateAircraftDelay</th>\n",
       "    </tr>\n",
       "  </thead>\n",
       "  <tbody>\n",
       "    <tr>\n",
       "      <th>497550</th>\n",
       "      <td>3</td>\n",
       "      <td>7</td>\n",
       "      <td>2127</td>\n",
       "      <td>438</td>\n",
       "      <td>-62</td>\n",
       "      <td>7</td>\n",
       "      <td>2148</td>\n",
       "      <td>8</td>\n",
       "      <td>10</td>\n",
       "      <td>nan</td>\n",
       "      <td>nan</td>\n",
       "      <td>nan</td>\n",
       "      <td>nan</td>\n",
       "      <td>nan</td>\n",
       "    </tr>\n",
       "    <tr>\n",
       "      <th>1731259</th>\n",
       "      <td>11</td>\n",
       "      <td>4</td>\n",
       "      <td>1554</td>\n",
       "      <td>1834</td>\n",
       "      <td>-56</td>\n",
       "      <td>9</td>\n",
       "      <td>1989</td>\n",
       "      <td>6</td>\n",
       "      <td>20</td>\n",
       "      <td>nan</td>\n",
       "      <td>nan</td>\n",
       "      <td>nan</td>\n",
       "      <td>nan</td>\n",
       "      <td>nan</td>\n",
       "    </tr>\n",
       "    <tr>\n",
       "      <th>1916451</th>\n",
       "      <td>12</td>\n",
       "      <td>2</td>\n",
       "      <td>1815</td>\n",
       "      <td>2057</td>\n",
       "      <td>-53</td>\n",
       "      <td>10</td>\n",
       "      <td>2465</td>\n",
       "      <td>3</td>\n",
       "      <td>18</td>\n",
       "      <td>nan</td>\n",
       "      <td>nan</td>\n",
       "      <td>nan</td>\n",
       "      <td>nan</td>\n",
       "      <td>nan</td>\n",
       "    </tr>\n",
       "    <tr>\n",
       "      <th>47306</th>\n",
       "      <td>1</td>\n",
       "      <td>4</td>\n",
       "      <td>1945</td>\n",
       "      <td>2104</td>\n",
       "      <td>-51</td>\n",
       "      <td>10</td>\n",
       "      <td>766</td>\n",
       "      <td>7</td>\n",
       "      <td>28</td>\n",
       "      <td>nan</td>\n",
       "      <td>nan</td>\n",
       "      <td>nan</td>\n",
       "      <td>nan</td>\n",
       "      <td>nan</td>\n",
       "    </tr>\n",
       "    <tr>\n",
       "      <th>182763</th>\n",
       "      <td>1</td>\n",
       "      <td>5</td>\n",
       "      <td>1636</td>\n",
       "      <td>1931</td>\n",
       "      <td>-49</td>\n",
       "      <td>6</td>\n",
       "      <td>1989</td>\n",
       "      <td>4</td>\n",
       "      <td>25</td>\n",
       "      <td>nan</td>\n",
       "      <td>nan</td>\n",
       "      <td>nan</td>\n",
       "      <td>nan</td>\n",
       "      <td>nan</td>\n",
       "    </tr>\n",
       "  </tbody>\n",
       "</table>\n",
       "</div>"
      ],
      "text/plain": [
       "         Month  DayOfWeek  DepTime  ArrTime  ArrDelay  DepDelay  Distance  \\\n",
       "497550       3          7     2127      438       -62         7      2148   \n",
       "1731259     11          4     1554     1834       -56         9      1989   \n",
       "1916451     12          2     1815     2057       -53        10      2465   \n",
       "47306        1          4     1945     2104       -51        10       766   \n",
       "182763       1          5     1636     1931       -49         6      1989   \n",
       "\n",
       "         TaxiIn  TaxiOut  CarrierDelay  WeatherDelay  NASDelay  SecurityDelay  \\\n",
       "497550        8       10           nan           nan       nan            nan   \n",
       "1731259       6       20           nan           nan       nan            nan   \n",
       "1916451       3       18           nan           nan       nan            nan   \n",
       "47306         7       28           nan           nan       nan            nan   \n",
       "182763        4       25           nan           nan       nan            nan   \n",
       "\n",
       "         LateAircraftDelay  \n",
       "497550                 nan  \n",
       "1731259                nan  \n",
       "1916451                nan  \n",
       "47306                  nan  \n",
       "182763                 nan  "
      ]
     },
     "execution_count": 7,
     "metadata": {},
     "output_type": "execute_result"
    }
   ],
   "source": [
    "# Drop variables seen too correlated in the matrix\n",
    "df = df.drop([ \"ActualElapsedTime\", 'CRSElapsedTime', 'AirTime'],1) # están altamente relacionadas con Distance\n",
    "df = df.drop(\"CRSDepTime\",1) # relacionada con DepTime\n",
    "df = df.drop(\"CRSArrTime\",1) # relacionada con DepTime\n",
    "df.head()"
   ]
  },
  {
   "cell_type": "code",
   "execution_count": 8,
   "id": "fc5ac11e",
   "metadata": {},
   "outputs": [],
   "source": [
    "# Fill null values with 0 in all XXXDelay as analized in Srint 12 Task 01 \n",
    "df['CarrierDelay'].fillna(0, inplace=True)\n",
    "df['WeatherDelay'].fillna(0, inplace=True)\n",
    "df['NASDelay'].fillna(0, inplace=True)\n",
    "df['SecurityDelay'].fillna(0, inplace=True)\n",
    "df['LateAircraftDelay'].fillna(0, inplace=True)"
   ]
  },
  {
   "cell_type": "code",
   "execution_count": 9,
   "id": "df6407fc",
   "metadata": {},
   "outputs": [
    {
     "data": {
      "text/html": [
       "<div>\n",
       "<style scoped>\n",
       "    .dataframe tbody tr th:only-of-type {\n",
       "        vertical-align: middle;\n",
       "    }\n",
       "\n",
       "    .dataframe tbody tr th {\n",
       "        vertical-align: top;\n",
       "    }\n",
       "\n",
       "    .dataframe thead th {\n",
       "        text-align: right;\n",
       "    }\n",
       "</style>\n",
       "<table border=\"1\" class=\"dataframe\">\n",
       "  <thead>\n",
       "    <tr style=\"text-align: right;\">\n",
       "      <th></th>\n",
       "      <th>Month</th>\n",
       "      <th>DayOfWeek</th>\n",
       "      <th>DepTime</th>\n",
       "      <th>ArrTime</th>\n",
       "      <th>DepDelay</th>\n",
       "      <th>Distance</th>\n",
       "      <th>TaxiIn</th>\n",
       "      <th>TaxiOut</th>\n",
       "      <th>CarrierDelay</th>\n",
       "      <th>WeatherDelay</th>\n",
       "      <th>NASDelay</th>\n",
       "      <th>SecurityDelay</th>\n",
       "      <th>LateAircraftDelay</th>\n",
       "      <th>demorado</th>\n",
       "    </tr>\n",
       "  </thead>\n",
       "  <tbody>\n",
       "    <tr>\n",
       "      <th>497550</th>\n",
       "      <td>3</td>\n",
       "      <td>7</td>\n",
       "      <td>2127</td>\n",
       "      <td>438</td>\n",
       "      <td>7</td>\n",
       "      <td>2148</td>\n",
       "      <td>8</td>\n",
       "      <td>10</td>\n",
       "      <td>0</td>\n",
       "      <td>0</td>\n",
       "      <td>0</td>\n",
       "      <td>0</td>\n",
       "      <td>0</td>\n",
       "      <td>0</td>\n",
       "    </tr>\n",
       "    <tr>\n",
       "      <th>1731259</th>\n",
       "      <td>11</td>\n",
       "      <td>4</td>\n",
       "      <td>1554</td>\n",
       "      <td>1834</td>\n",
       "      <td>9</td>\n",
       "      <td>1989</td>\n",
       "      <td>6</td>\n",
       "      <td>20</td>\n",
       "      <td>0</td>\n",
       "      <td>0</td>\n",
       "      <td>0</td>\n",
       "      <td>0</td>\n",
       "      <td>0</td>\n",
       "      <td>0</td>\n",
       "    </tr>\n",
       "    <tr>\n",
       "      <th>1916451</th>\n",
       "      <td>12</td>\n",
       "      <td>2</td>\n",
       "      <td>1815</td>\n",
       "      <td>2057</td>\n",
       "      <td>10</td>\n",
       "      <td>2465</td>\n",
       "      <td>3</td>\n",
       "      <td>18</td>\n",
       "      <td>0</td>\n",
       "      <td>0</td>\n",
       "      <td>0</td>\n",
       "      <td>0</td>\n",
       "      <td>0</td>\n",
       "      <td>0</td>\n",
       "    </tr>\n",
       "    <tr>\n",
       "      <th>47306</th>\n",
       "      <td>1</td>\n",
       "      <td>4</td>\n",
       "      <td>1945</td>\n",
       "      <td>2104</td>\n",
       "      <td>10</td>\n",
       "      <td>766</td>\n",
       "      <td>7</td>\n",
       "      <td>28</td>\n",
       "      <td>0</td>\n",
       "      <td>0</td>\n",
       "      <td>0</td>\n",
       "      <td>0</td>\n",
       "      <td>0</td>\n",
       "      <td>0</td>\n",
       "    </tr>\n",
       "    <tr>\n",
       "      <th>182763</th>\n",
       "      <td>1</td>\n",
       "      <td>5</td>\n",
       "      <td>1636</td>\n",
       "      <td>1931</td>\n",
       "      <td>6</td>\n",
       "      <td>1989</td>\n",
       "      <td>4</td>\n",
       "      <td>25</td>\n",
       "      <td>0</td>\n",
       "      <td>0</td>\n",
       "      <td>0</td>\n",
       "      <td>0</td>\n",
       "      <td>0</td>\n",
       "      <td>0</td>\n",
       "    </tr>\n",
       "    <tr>\n",
       "      <th>...</th>\n",
       "      <td>...</td>\n",
       "      <td>...</td>\n",
       "      <td>...</td>\n",
       "      <td>...</td>\n",
       "      <td>...</td>\n",
       "      <td>...</td>\n",
       "      <td>...</td>\n",
       "      <td>...</td>\n",
       "      <td>...</td>\n",
       "      <td>...</td>\n",
       "      <td>...</td>\n",
       "      <td>...</td>\n",
       "      <td>...</td>\n",
       "      <td>...</td>\n",
       "    </tr>\n",
       "    <tr>\n",
       "      <th>517183</th>\n",
       "      <td>3</td>\n",
       "      <td>7</td>\n",
       "      <td>258</td>\n",
       "      <td>809</td>\n",
       "      <td>1193</td>\n",
       "      <td>1399</td>\n",
       "      <td>5</td>\n",
       "      <td>27</td>\n",
       "      <td>5</td>\n",
       "      <td>0</td>\n",
       "      <td>0</td>\n",
       "      <td>0</td>\n",
       "      <td>1184</td>\n",
       "      <td>1</td>\n",
       "    </tr>\n",
       "    <tr>\n",
       "      <th>1655337</th>\n",
       "      <td>11</td>\n",
       "      <td>6</td>\n",
       "      <td>900</td>\n",
       "      <td>1409</td>\n",
       "      <td>1240</td>\n",
       "      <td>1454</td>\n",
       "      <td>4</td>\n",
       "      <td>15</td>\n",
       "      <td>1230</td>\n",
       "      <td>0</td>\n",
       "      <td>0</td>\n",
       "      <td>0</td>\n",
       "      <td>0</td>\n",
       "      <td>1</td>\n",
       "    </tr>\n",
       "    <tr>\n",
       "      <th>1025817</th>\n",
       "      <td>6</td>\n",
       "      <td>1</td>\n",
       "      <td>1044</td>\n",
       "      <td>1532</td>\n",
       "      <td>1287</td>\n",
       "      <td>1175</td>\n",
       "      <td>8</td>\n",
       "      <td>21</td>\n",
       "      <td>1165</td>\n",
       "      <td>0</td>\n",
       "      <td>2</td>\n",
       "      <td>0</td>\n",
       "      <td>122</td>\n",
       "      <td>1</td>\n",
       "    </tr>\n",
       "    <tr>\n",
       "      <th>1027010</th>\n",
       "      <td>6</td>\n",
       "      <td>1</td>\n",
       "      <td>1258</td>\n",
       "      <td>1753</td>\n",
       "      <td>1358</td>\n",
       "      <td>1300</td>\n",
       "      <td>5</td>\n",
       "      <td>11</td>\n",
       "      <td>1344</td>\n",
       "      <td>0</td>\n",
       "      <td>0</td>\n",
       "      <td>0</td>\n",
       "      <td>0</td>\n",
       "      <td>1</td>\n",
       "    </tr>\n",
       "    <tr>\n",
       "      <th>521096</th>\n",
       "      <td>3</td>\n",
       "      <td>5</td>\n",
       "      <td>705</td>\n",
       "      <td>811</td>\n",
       "      <td>1490</td>\n",
       "      <td>200</td>\n",
       "      <td>5</td>\n",
       "      <td>14</td>\n",
       "      <td>1490</td>\n",
       "      <td>0</td>\n",
       "      <td>0</td>\n",
       "      <td>0</td>\n",
       "      <td>0</td>\n",
       "      <td>1</td>\n",
       "    </tr>\n",
       "  </tbody>\n",
       "</table>\n",
       "<p>160697 rows × 14 columns</p>\n",
       "</div>"
      ],
      "text/plain": [
       "         Month  DayOfWeek  DepTime  ArrTime  DepDelay  Distance  TaxiIn  \\\n",
       "497550       3          7     2127      438         7      2148       8   \n",
       "1731259     11          4     1554     1834         9      1989       6   \n",
       "1916451     12          2     1815     2057        10      2465       3   \n",
       "47306        1          4     1945     2104        10       766       7   \n",
       "182763       1          5     1636     1931         6      1989       4   \n",
       "...        ...        ...      ...      ...       ...       ...     ...   \n",
       "517183       3          7      258      809      1193      1399       5   \n",
       "1655337     11          6      900     1409      1240      1454       4   \n",
       "1025817      6          1     1044     1532      1287      1175       8   \n",
       "1027010      6          1     1258     1753      1358      1300       5   \n",
       "521096       3          5      705      811      1490       200       5   \n",
       "\n",
       "         TaxiOut  CarrierDelay  WeatherDelay  NASDelay  SecurityDelay  \\\n",
       "497550        10             0             0         0              0   \n",
       "1731259       20             0             0         0              0   \n",
       "1916451       18             0             0         0              0   \n",
       "47306         28             0             0         0              0   \n",
       "182763        25             0             0         0              0   \n",
       "...          ...           ...           ...       ...            ...   \n",
       "517183        27             5             0         0              0   \n",
       "1655337       15          1230             0         0              0   \n",
       "1025817       21          1165             0         2              0   \n",
       "1027010       11          1344             0         0              0   \n",
       "521096        14          1490             0         0              0   \n",
       "\n",
       "         LateAircraftDelay demorado  \n",
       "497550                   0        0  \n",
       "1731259                  0        0  \n",
       "1916451                  0        0  \n",
       "47306                    0        0  \n",
       "182763                   0        0  \n",
       "...                    ...      ...  \n",
       "517183                1184        1  \n",
       "1655337                  0        1  \n",
       "1025817                122        1  \n",
       "1027010                  0        1  \n",
       "521096                   0        1  \n",
       "\n",
       "[160697 rows x 14 columns]"
      ]
     },
     "execution_count": 9,
     "metadata": {},
     "output_type": "execute_result"
    }
   ],
   "source": [
    "# Prepare the target variable \"demorado\" with 0 or 1\n",
    "bins = [-200, 0, 1600]\n",
    "valores = [0,1]\n",
    "df['demorado'] = pd.cut(df['ArrDelay'], bins=bins, labels=valores)\n",
    "# Drop ArrDelay\n",
    "df.drop(\"ArrDelay\",1, inplace=True)\n",
    "df"
   ]
  },
  {
   "cell_type": "code",
   "execution_count": 10,
   "id": "cfa82727",
   "metadata": {},
   "outputs": [
    {
     "data": {
      "text/plain": [
       "1    143618\n",
       "0     17079\n",
       "Name: demorado, dtype: int64"
      ]
     },
     "execution_count": 10,
     "metadata": {},
     "output_type": "execute_result"
    }
   ],
   "source": [
    "df.demorado.value_counts()"
   ]
  },
  {
   "cell_type": "code",
   "execution_count": 11,
   "id": "3756c132",
   "metadata": {},
   "outputs": [],
   "source": [
    "# Drop even  some more features as in Sprint 12\n",
    "df = df.drop(['Month', 'DayOfWeek', 'DepTime', 'ArrTime'],1)"
   ]
  },
  {
   "cell_type": "code",
   "execution_count": 12,
   "id": "7648f848",
   "metadata": {},
   "outputs": [],
   "source": [
    "# Split dataset in features and target variable\n",
    "feature_cols = list(df.columns)\n",
    "feature_cols.remove('demorado')\n",
    "X = df[feature_cols].values # Features\n",
    "y = df.demorado.values # Target variable\n",
    "\n",
    "# Remember another way of doing this \n",
    "# X, y = df.iloc[:,:-1].values, df.iloc[:,-1]-values\n",
    "\n",
    "\n",
    "# Split dataset into training set and test set, taking equivalent values of 'demorado' in each group\n",
    "X_train, X_test, y_train, y_test = train_test_split(X, y, test_size=0.3, random_state=1, stratify =df.demorado)"
   ]
  },
  {
   "cell_type": "markdown",
   "id": "e925e5eb",
   "metadata": {},
   "source": [
    "## Exercici 1\n",
    "Crear al menos tres modelos de clasificación para predecir si un vuelo llegará con demora"
   ]
  },
  {
   "cell_type": "code",
   "execution_count": 13,
   "id": "a506c959",
   "metadata": {},
   "outputs": [
    {
     "name": "stderr",
     "output_type": "stream",
     "text": [
      "100%|██████████| 29/29 [04:51<00:00, 10.04s/it]\n"
     ]
    }
   ],
   "source": [
    "# Analize multiple models with lazypredict\n",
    "clf = LazyClassifier(verbose=0,ignore_warnings=True, custom_metric=None)\n",
    "models,predictions = clf.fit(X_train, X_test, y_train, y_test)"
   ]
  },
  {
   "cell_type": "code",
   "execution_count": 14,
   "id": "0334c239",
   "metadata": {},
   "outputs": [
    {
     "data": {
      "text/html": [
       "<div>\n",
       "<style scoped>\n",
       "    .dataframe tbody tr th:only-of-type {\n",
       "        vertical-align: middle;\n",
       "    }\n",
       "\n",
       "    .dataframe tbody tr th {\n",
       "        vertical-align: top;\n",
       "    }\n",
       "\n",
       "    .dataframe thead th {\n",
       "        text-align: right;\n",
       "    }\n",
       "</style>\n",
       "<table border=\"1\" class=\"dataframe\">\n",
       "  <thead>\n",
       "    <tr style=\"text-align: right;\">\n",
       "      <th></th>\n",
       "      <th>Accuracy</th>\n",
       "      <th>Balanced Accuracy</th>\n",
       "      <th>ROC AUC</th>\n",
       "      <th>F1 Score</th>\n",
       "      <th>Time Taken</th>\n",
       "    </tr>\n",
       "    <tr>\n",
       "      <th>Model</th>\n",
       "      <th></th>\n",
       "      <th></th>\n",
       "      <th></th>\n",
       "      <th></th>\n",
       "      <th></th>\n",
       "    </tr>\n",
       "  </thead>\n",
       "  <tbody>\n",
       "    <tr>\n",
       "      <th>GaussianNB</th>\n",
       "      <td>0.757</td>\n",
       "      <td>0.864</td>\n",
       "      <td>0.864</td>\n",
       "      <td>0.802</td>\n",
       "      <td>0.233</td>\n",
       "    </tr>\n",
       "    <tr>\n",
       "      <th>NearestCentroid</th>\n",
       "      <td>0.661</td>\n",
       "      <td>0.798</td>\n",
       "      <td>0.798</td>\n",
       "      <td>0.726</td>\n",
       "      <td>0.200</td>\n",
       "    </tr>\n",
       "    <tr>\n",
       "      <th>BaggingClassifier</th>\n",
       "      <td>0.888</td>\n",
       "      <td>0.694</td>\n",
       "      <td>0.694</td>\n",
       "      <td>0.887</td>\n",
       "      <td>2.347</td>\n",
       "    </tr>\n",
       "    <tr>\n",
       "      <th>DecisionTreeClassifier</th>\n",
       "      <td>0.876</td>\n",
       "      <td>0.682</td>\n",
       "      <td>0.682</td>\n",
       "      <td>0.877</td>\n",
       "      <td>0.484</td>\n",
       "    </tr>\n",
       "    <tr>\n",
       "      <th>XGBClassifier</th>\n",
       "      <td>0.908</td>\n",
       "      <td>0.679</td>\n",
       "      <td>0.679</td>\n",
       "      <td>0.899</td>\n",
       "      <td>3.657</td>\n",
       "    </tr>\n",
       "    <tr>\n",
       "      <th>LGBMClassifier</th>\n",
       "      <td>0.909</td>\n",
       "      <td>0.676</td>\n",
       "      <td>0.676</td>\n",
       "      <td>0.899</td>\n",
       "      <td>0.857</td>\n",
       "    </tr>\n",
       "    <tr>\n",
       "      <th>ExtraTreeClassifier</th>\n",
       "      <td>0.877</td>\n",
       "      <td>0.675</td>\n",
       "      <td>0.675</td>\n",
       "      <td>0.877</td>\n",
       "      <td>0.242</td>\n",
       "    </tr>\n",
       "    <tr>\n",
       "      <th>ExtraTreesClassifier</th>\n",
       "      <td>0.895</td>\n",
       "      <td>0.673</td>\n",
       "      <td>0.673</td>\n",
       "      <td>0.889</td>\n",
       "      <td>9.712</td>\n",
       "    </tr>\n",
       "    <tr>\n",
       "      <th>KNeighborsClassifier</th>\n",
       "      <td>0.895</td>\n",
       "      <td>0.670</td>\n",
       "      <td>0.670</td>\n",
       "      <td>0.888</td>\n",
       "      <td>46.935</td>\n",
       "    </tr>\n",
       "    <tr>\n",
       "      <th>RandomForestClassifier</th>\n",
       "      <td>0.895</td>\n",
       "      <td>0.668</td>\n",
       "      <td>0.668</td>\n",
       "      <td>0.888</td>\n",
       "      <td>7.777</td>\n",
       "    </tr>\n",
       "    <tr>\n",
       "      <th>AdaBoostClassifier</th>\n",
       "      <td>0.905</td>\n",
       "      <td>0.650</td>\n",
       "      <td>0.650</td>\n",
       "      <td>0.893</td>\n",
       "      <td>4.182</td>\n",
       "    </tr>\n",
       "    <tr>\n",
       "      <th>BernoulliNB</th>\n",
       "      <td>0.880</td>\n",
       "      <td>0.628</td>\n",
       "      <td>0.628</td>\n",
       "      <td>0.872</td>\n",
       "      <td>0.216</td>\n",
       "    </tr>\n",
       "    <tr>\n",
       "      <th>LogisticRegression</th>\n",
       "      <td>0.904</td>\n",
       "      <td>0.613</td>\n",
       "      <td>0.613</td>\n",
       "      <td>0.885</td>\n",
       "      <td>0.671</td>\n",
       "    </tr>\n",
       "    <tr>\n",
       "      <th>LinearSVC</th>\n",
       "      <td>0.902</td>\n",
       "      <td>0.596</td>\n",
       "      <td>0.596</td>\n",
       "      <td>0.880</td>\n",
       "      <td>8.114</td>\n",
       "    </tr>\n",
       "    <tr>\n",
       "      <th>Perceptron</th>\n",
       "      <td>0.897</td>\n",
       "      <td>0.574</td>\n",
       "      <td>0.574</td>\n",
       "      <td>0.871</td>\n",
       "      <td>0.300</td>\n",
       "    </tr>\n",
       "    <tr>\n",
       "      <th>SVC</th>\n",
       "      <td>0.901</td>\n",
       "      <td>0.568</td>\n",
       "      <td>0.568</td>\n",
       "      <td>0.872</td>\n",
       "      <td>169.925</td>\n",
       "    </tr>\n",
       "    <tr>\n",
       "      <th>QuadraticDiscriminantAnalysis</th>\n",
       "      <td>0.882</td>\n",
       "      <td>0.537</td>\n",
       "      <td>0.537</td>\n",
       "      <td>0.853</td>\n",
       "      <td>0.286</td>\n",
       "    </tr>\n",
       "    <tr>\n",
       "      <th>PassiveAggressiveClassifier</th>\n",
       "      <td>0.894</td>\n",
       "      <td>0.502</td>\n",
       "      <td>0.502</td>\n",
       "      <td>0.845</td>\n",
       "      <td>0.300</td>\n",
       "    </tr>\n",
       "    <tr>\n",
       "      <th>SGDClassifier</th>\n",
       "      <td>0.894</td>\n",
       "      <td>0.501</td>\n",
       "      <td>0.501</td>\n",
       "      <td>0.844</td>\n",
       "      <td>0.316</td>\n",
       "    </tr>\n",
       "    <tr>\n",
       "      <th>LinearDiscriminantAnalysis</th>\n",
       "      <td>0.893</td>\n",
       "      <td>0.501</td>\n",
       "      <td>0.501</td>\n",
       "      <td>0.844</td>\n",
       "      <td>0.296</td>\n",
       "    </tr>\n",
       "    <tr>\n",
       "      <th>CalibratedClassifierCV</th>\n",
       "      <td>0.894</td>\n",
       "      <td>0.500</td>\n",
       "      <td>0.500</td>\n",
       "      <td>0.844</td>\n",
       "      <td>33.197</td>\n",
       "    </tr>\n",
       "    <tr>\n",
       "      <th>RidgeClassifier</th>\n",
       "      <td>0.894</td>\n",
       "      <td>0.500</td>\n",
       "      <td>0.500</td>\n",
       "      <td>0.844</td>\n",
       "      <td>0.257</td>\n",
       "    </tr>\n",
       "    <tr>\n",
       "      <th>RidgeClassifierCV</th>\n",
       "      <td>0.894</td>\n",
       "      <td>0.500</td>\n",
       "      <td>0.500</td>\n",
       "      <td>0.844</td>\n",
       "      <td>0.285</td>\n",
       "    </tr>\n",
       "    <tr>\n",
       "      <th>DummyClassifier</th>\n",
       "      <td>0.809</td>\n",
       "      <td>0.499</td>\n",
       "      <td>0.499</td>\n",
       "      <td>0.809</td>\n",
       "      <td>0.168</td>\n",
       "    </tr>\n",
       "  </tbody>\n",
       "</table>\n",
       "</div>"
      ],
      "text/plain": [
       "                               Accuracy  Balanced Accuracy  ROC AUC  F1 Score  \\\n",
       "Model                                                                           \n",
       "GaussianNB                        0.757              0.864    0.864     0.802   \n",
       "NearestCentroid                   0.661              0.798    0.798     0.726   \n",
       "BaggingClassifier                 0.888              0.694    0.694     0.887   \n",
       "DecisionTreeClassifier            0.876              0.682    0.682     0.877   \n",
       "XGBClassifier                     0.908              0.679    0.679     0.899   \n",
       "LGBMClassifier                    0.909              0.676    0.676     0.899   \n",
       "ExtraTreeClassifier               0.877              0.675    0.675     0.877   \n",
       "ExtraTreesClassifier              0.895              0.673    0.673     0.889   \n",
       "KNeighborsClassifier              0.895              0.670    0.670     0.888   \n",
       "RandomForestClassifier            0.895              0.668    0.668     0.888   \n",
       "AdaBoostClassifier                0.905              0.650    0.650     0.893   \n",
       "BernoulliNB                       0.880              0.628    0.628     0.872   \n",
       "LogisticRegression                0.904              0.613    0.613     0.885   \n",
       "LinearSVC                         0.902              0.596    0.596     0.880   \n",
       "Perceptron                        0.897              0.574    0.574     0.871   \n",
       "SVC                               0.901              0.568    0.568     0.872   \n",
       "QuadraticDiscriminantAnalysis     0.882              0.537    0.537     0.853   \n",
       "PassiveAggressiveClassifier       0.894              0.502    0.502     0.845   \n",
       "SGDClassifier                     0.894              0.501    0.501     0.844   \n",
       "LinearDiscriminantAnalysis        0.893              0.501    0.501     0.844   \n",
       "CalibratedClassifierCV            0.894              0.500    0.500     0.844   \n",
       "RidgeClassifier                   0.894              0.500    0.500     0.844   \n",
       "RidgeClassifierCV                 0.894              0.500    0.500     0.844   \n",
       "DummyClassifier                   0.809              0.499    0.499     0.809   \n",
       "\n",
       "                               Time Taken  \n",
       "Model                                      \n",
       "GaussianNB                          0.233  \n",
       "NearestCentroid                     0.200  \n",
       "BaggingClassifier                   2.347  \n",
       "DecisionTreeClassifier              0.484  \n",
       "XGBClassifier                       3.657  \n",
       "LGBMClassifier                      0.857  \n",
       "ExtraTreeClassifier                 0.242  \n",
       "ExtraTreesClassifier                9.712  \n",
       "KNeighborsClassifier               46.935  \n",
       "RandomForestClassifier              7.777  \n",
       "AdaBoostClassifier                  4.182  \n",
       "BernoulliNB                         0.216  \n",
       "LogisticRegression                  0.671  \n",
       "LinearSVC                           8.114  \n",
       "Perceptron                          0.300  \n",
       "SVC                               169.925  \n",
       "QuadraticDiscriminantAnalysis       0.286  \n",
       "PassiveAggressiveClassifier         0.300  \n",
       "SGDClassifier                       0.316  \n",
       "LinearDiscriminantAnalysis          0.296  \n",
       "CalibratedClassifierCV             33.197  \n",
       "RidgeClassifier                     0.257  \n",
       "RidgeClassifierCV                   0.285  \n",
       "DummyClassifier                     0.168  "
      ]
     },
     "execution_count": 14,
     "metadata": {},
     "output_type": "execute_result"
    }
   ],
   "source": [
    "# Print up to 3 decimals\n",
    "pd.options.display.float_format = '{:.3f}'.format\n",
    "models"
   ]
  },
  {
   "cell_type": "markdown",
   "id": "779cb629",
   "metadata": {},
   "source": [
    "We can see there´s a lot to analize, depending on what you want to maximize. For example KNN and SVC take a lot of running time. "
   ]
  },
  {
   "cell_type": "code",
   "execution_count": 15,
   "id": "acf0e167",
   "metadata": {},
   "outputs": [
    {
     "data": {
      "text/plain": [
       "[(0.0, 1.0)]"
      ]
     },
     "execution_count": 15,
     "metadata": {},
     "output_type": "execute_result"
    },
    {
     "data": {
      "image/png": "[encoded data removed]",
      "text/plain": [
       "<Figure size 360x720 with 1 Axes>"
      ]
     },
     "metadata": {
      "needs_background": "light"
     },
     "output_type": "display_data"
    }
   ],
   "source": [
    "# Display ordered by Accuracy\n",
    "\n",
    "lazy_df = pd.DataFrame(models).sort_values(by=['Accuracy'], ascending=False)\n",
    "\n",
    "# reverse the palette color\n",
    "palette = sns.color_palette(\"Blues_d\", n_colors=10)\n",
    "palette.reverse()\n",
    "\n",
    "plt.figure(figsize=(5, 10))\n",
    "ax = sns.barplot(y= lazy_df.index, x=\"Accuracy\", data=lazy_df, palette=palette)\n",
    "ax.set_title('Accuracy comparative')\n",
    "ax.set(xlim=(0, 1))"
   ]
  },
  {
   "cell_type": "markdown",
   "id": "b4463b64",
   "metadata": {},
   "source": [
    "### Ada Boost Classifier"
   ]
  },
  {
   "cell_type": "code",
   "execution_count": 62,
   "id": "a070eb52",
   "metadata": {},
   "outputs": [],
   "source": [
    "# Create Ada Boost classifer object\n",
    "abclf1 = AdaBoostClassifier()\n",
    "\n",
    "# Train the Classifer\n",
    "abclf1 = abclf1.fit(X_train,y_train)\n",
    "\n",
    "#Predict the response for test dataset\n",
    "y_pred1 = abclf1.predict(X_test)\n"
   ]
  },
  {
   "cell_type": "markdown",
   "id": "3b0b2c12",
   "metadata": {},
   "source": [
    "### K-nearest neighbours"
   ]
  },
  {
   "cell_type": "code",
   "execution_count": 63,
   "id": "288eac03",
   "metadata": {},
   "outputs": [],
   "source": [
    "# Create and fit the model\n",
    "kn1 = KNeighborsClassifier(n_neighbors=5)\n",
    "kn1 = kn1.fit(X_train, y_train)\n",
    "\n",
    "y_pred_kn1= kn1.predict(X_test)\n"
   ]
  },
  {
   "cell_type": "markdown",
   "id": "ac826dca",
   "metadata": {},
   "source": [
    "### Logistic Regression"
   ]
  },
  {
   "cell_type": "code",
   "execution_count": 18,
   "id": "6dd67d31",
   "metadata": {},
   "outputs": [],
   "source": [
    "# Standarize the data for the model\n",
    "# Before this I got a warning of non convergent problem\n",
    "scaler = StandardScaler()\n",
    "\n",
    "X_std = scaler.fit_transform(X)\n"
   ]
  },
  {
   "cell_type": "code",
   "execution_count": 64,
   "id": "ba743376",
   "metadata": {},
   "outputs": [],
   "source": [
    "# Split  standarized dataset into training set and test set\n",
    "X_train_std, X_test_std, y_train, y_test = train_test_split(X_std, y, test_size=0.3, random_state=1)\n",
    "\n",
    "\n",
    "# instantiate the model\n",
    "logreg = LogisticRegression()\n",
    "\n",
    "# fit the model with data\n",
    "logreg.fit(X_train_std, y_train)\n",
    "\n",
    "y_pred_lg=logreg.predict(X_test_std)\n",
    "\n"
   ]
  },
  {
   "cell_type": "markdown",
   "id": "e205c39a",
   "metadata": {},
   "source": [
    "## Exercici 2\n",
    "Medir los modelos"
   ]
  },
  {
   "cell_type": "code",
   "execution_count": 106,
   "id": "a57a8488",
   "metadata": {},
   "outputs": [
    {
     "data": {
      "text/html": [
       "<div>\n",
       "<style scoped>\n",
       "    .dataframe tbody tr th:only-of-type {\n",
       "        vertical-align: middle;\n",
       "    }\n",
       "\n",
       "    .dataframe tbody tr th {\n",
       "        vertical-align: top;\n",
       "    }\n",
       "\n",
       "    .dataframe thead th {\n",
       "        text-align: right;\n",
       "    }\n",
       "</style>\n",
       "<table border=\"1\" class=\"dataframe\">\n",
       "  <thead>\n",
       "    <tr style=\"text-align: right;\">\n",
       "      <th></th>\n",
       "      <th>Precision</th>\n",
       "      <th>Recall</th>\n",
       "      <th>Accuracy</th>\n",
       "      <th>B-Accuracy</th>\n",
       "      <th>F1 Score</th>\n",
       "      <th>ROC area</th>\n",
       "      <th>Confusion Matrix</th>\n",
       "    </tr>\n",
       "  </thead>\n",
       "  <tbody>\n",
       "    <tr>\n",
       "      <th>AdaBoost</th>\n",
       "      <td>0.893</td>\n",
       "      <td>1.000</td>\n",
       "      <td>0.893</td>\n",
       "      <td>0.500</td>\n",
       "      <td>0.944</td>\n",
       "      <td>0.504</td>\n",
       "      <td>[[0, 5154], [1, 43055]]</td>\n",
       "    </tr>\n",
       "    <tr>\n",
       "      <th>KNNeighbours</th>\n",
       "      <td>0.893</td>\n",
       "      <td>0.990</td>\n",
       "      <td>0.885</td>\n",
       "      <td>0.500</td>\n",
       "      <td>0.939</td>\n",
       "      <td>0.497</td>\n",
       "      <td>[[49, 5105], [436, 42620]]</td>\n",
       "    </tr>\n",
       "    <tr>\n",
       "      <th>Logistic Regression</th>\n",
       "      <td>0.917</td>\n",
       "      <td>0.980</td>\n",
       "      <td>0.903</td>\n",
       "      <td>0.621</td>\n",
       "      <td>0.948</td>\n",
       "      <td>0.929</td>\n",
       "      <td>[[1352, 3802], [851, 42205]]</td>\n",
       "    </tr>\n",
       "  </tbody>\n",
       "</table>\n",
       "</div>"
      ],
      "text/plain": [
       "                    Precision Recall Accuracy B-Accuracy F1 Score ROC area  \\\n",
       "AdaBoost                0.893  1.000    0.893      0.500    0.944    0.504   \n",
       "KNNeighbours            0.893  0.990    0.885      0.500    0.939    0.497   \n",
       "Logistic Regression     0.917  0.980    0.903      0.621    0.948    0.929   \n",
       "\n",
       "                                 Confusion Matrix  \n",
       "AdaBoost                  [[0, 5154], [1, 43055]]  \n",
       "KNNeighbours           [[49, 5105], [436, 42620]]  \n",
       "Logistic Regression  [[1352, 3802], [851, 42205]]  "
      ]
     },
     "execution_count": 106,
     "metadata": {},
     "output_type": "execute_result"
    }
   ],
   "source": [
    "models_list = [('AdaBoost',abclf1,False), ('KNNeighbours', kn1, False), ('Logistic Regression', logreg, True)]\n",
    "scores_dict = {}\n",
    "\n",
    "for name, clf, std in models_list:\n",
    "    # si el modelo usó datos estandarizados necesito usar X_test_std\n",
    "    if std:\n",
    "        X_prueba = X_test_std\n",
    "    else:\n",
    "        X_prueba = X_test\n",
    "        \n",
    "    scores = {'Precision':metrics.precision_score(y_test, clf.predict(X_prueba)),\n",
    "                'Recall':metrics.recall_score(y_test,clf.predict(X_prueba)),\n",
    "                'Accuracy':metrics.accuracy_score(y_test, clf.predict(X_prueba)),\n",
    "                'B-Accuracy':metrics.balanced_accuracy_score(y_test, clf.predict(X_prueba)),\n",
    "                'F1 Score':metrics.f1_score(y_test, clf.predict(X_prueba)),\n",
    "                'ROC area':metrics.roc_auc_score(y_test, clf.predict_proba(X_prueba)[:, 1]),\n",
    "                'Confusion Matrix':confusion_matrix(y_test, clf.predict(X_prueba))}\n",
    "    scores_dict[name] = scores\n",
    "    \n",
    "scores_df = pd.DataFrame.from_dict(scores_dict).transpose()\n",
    "\n",
    "scores_df"
   ]
  },
  {
   "cell_type": "markdown",
   "id": "539be9dd",
   "metadata": {},
   "source": [
    "In the confussion matrix we can see Logistic Regression is, by far, the model that has less false positvies. If I choose to minimize this, it's the best model. Also oyher scores are better in this model.  \n",
    "\n",
    "The AUC 0,500 means the predictors are the same as the Dummy Classifier. This is no good. "
   ]
  },
  {
   "cell_type": "code",
   "execution_count": 21,
   "id": "d73fbe69",
   "metadata": {},
   "outputs": [
    {
     "data": {
      "text/plain": [
       "<AxesSubplot:title={'center':'Meditions for differente models'}>"
      ]
     },
     "execution_count": 21,
     "metadata": {},
     "output_type": "execute_result"
    },
    {
     "data": {
      "image/png": "[encoded data removed]",
      "text/plain": [
       "<Figure size 1008x360 with 1 Axes>"
      ]
     },
     "metadata": {
      "needs_background": "light"
     },
     "output_type": "display_data"
    }
   ],
   "source": [
    "scores_df.plot(kind='bar', figsize =(14,5), rot=0, title='Meditions for differente models')\n"
   ]
  },
  {
   "cell_type": "code",
   "execution_count": 22,
   "id": "74c741d3",
   "metadata": {},
   "outputs": [],
   "source": [
    "# The normalized confussion matrix:\n",
    "\n",
    "# For Ada Boost we have:\n",
    "cf_ab = confusion_matrix(y_test, y_pred1, normalize='true')\n",
    "\n",
    "# Also the above information can be achieved with:\n",
    "# cr_ab = classification_report(y_test, y_pred1)\n",
    "\n",
    "# For knn:\n",
    "cf_knn = confusion_matrix(y_test, y_pred_kn1, normalize='true')\n",
    "\n",
    "# For Logistic Regression:\n",
    "cf_lr = confusion_matrix(y_test, y_pred_lg, normalize='true')\n",
    "\n",
    "# Precision: When a positive value is predicted, how often is the prediction correct?\n"
   ]
  },
  {
   "cell_type": "code",
   "execution_count": 23,
   "id": "0078ad60",
   "metadata": {},
   "outputs": [
    {
     "data": {
      "image/png": "[encoded data removed]",
      "text/plain": [
       "<Figure size 1080x360 with 4 Axes>"
      ]
     },
     "metadata": {
      "needs_background": "light"
     },
     "output_type": "display_data"
    }
   ],
   "source": [
    "# Plot confusion matrix\n",
    "\n",
    "fig, ax = plt.subplots(1, 3, figsize=(15, 5), sharey='row')\n",
    "\n",
    "cmview = metrics.ConfusionMatrixDisplay(cf_ab)\n",
    "cmview.plot(ax=ax[0])\n",
    "cmview.ax_.set_title('Ada Boost CM')\n",
    "cmview.im_.colorbar.remove()\n",
    "\n",
    "cmview = metrics.ConfusionMatrixDisplay(cf_knn)\n",
    "cmview.plot(ax=ax[1])\n",
    "cmview.ax_.set_title('KN Neighbours CM')\n",
    "cmview.im_.colorbar.remove()\n",
    "   \n",
    "cmview = metrics.ConfusionMatrixDisplay(cf_lr)\n",
    "cmview.plot(ax=ax[2])\n",
    "cmview.ax_.set_title('Logistic Regression CM')\n",
    "cmview.im_.colorbar.remove()\n",
    "\n",
    "plt.subplots_adjust(wspace=0.20, hspace=0.1)\n",
    "fig.colorbar(cmview.im_, ax=ax)\n",
    "fig.suptitle('Confusion Matrix', fontsize = 20, fontweight = \"bold\", ha='center')\n",
    "plt.show()\n",
    "\n"
   ]
  },
  {
   "cell_type": "markdown",
   "id": "6e477f07",
   "metadata": {},
   "source": [
    "The first two models, have a high TP but also a high FP. They both label a lot positive and have very little TN. Logistic Regression seems more appropiate.\n",
    "\n",
    "The reason could be that the sample has a little percentage of negatives to analize. I made sure the percentage in the sample was the same that the one from the dataset, the thing is the dataset also had little negative examples. A good approach could be apply a technique of Imbalanced Classification such as SMOTE. "
   ]
  },
  {
   "cell_type": "code",
   "execution_count": 24,
   "id": "56a3a8c1",
   "metadata": {},
   "outputs": [
    {
     "data": {
      "text/plain": [
       "Text(0.5, 257.44, 'Predicted label')"
      ]
     },
     "execution_count": 24,
     "metadata": {},
     "output_type": "execute_result"
    },
    {
     "data": {
      "image/png": "[encoded data removed]",
      "text/plain": [
       "<Figure size 432x288 with 2 Axes>"
      ]
     },
     "metadata": {
      "needs_background": "light"
     },
     "output_type": "display_data"
    }
   ],
   "source": [
    "# I can also create the matrix by hand with:\n",
    "class_names=[0,1] # name  of classes\n",
    "fig, ax = plt.subplots()\n",
    "tick_marks = np.arange(len(class_names))\n",
    "plt.xticks(tick_marks, class_names)\n",
    "plt.yticks(tick_marks, class_names)\n",
    "# create heatmap\n",
    "sns.heatmap(pd.DataFrame(cf_ab), annot=True, cmap=\"YlGnBu\" ,fmt='g')\n",
    "ax.xaxis.set_label_position(\"top\")\n",
    "plt.tight_layout()\n",
    "plt.title('Confusion matrix Ada Booster', y=1.1)\n",
    "plt.ylabel('Actual label')\n",
    "plt.xlabel('Predicted label')"
   ]
  },
  {
   "cell_type": "code",
   "execution_count": 25,
   "id": "213d1323",
   "metadata": {},
   "outputs": [
    {
     "data": {
      "image/png": "[encoded data removed]",
      "text/plain": [
       "<Figure size 1080x360 with 3 Axes>"
      ]
     },
     "metadata": {
      "needs_background": "light"
     },
     "output_type": "display_data"
    }
   ],
   "source": [
    "# ROC curve, AUC values and Detection Error tradeoff\n",
    "fig, [ax_ab, ax_knn, ax_lg] = plt.subplots(1, 3, figsize=(15, 5))\n",
    "\n",
    "plot_roc_curve(abclf1, X_test, y_test, ax=ax_ab)\n",
    "\n",
    "plot_roc_curve(kn1, X_test, y_test, ax=ax_knn)\n",
    "\n",
    "plot_roc_curve(logreg, X_test_std, y_test, ax=ax_lg)\n",
    "\n",
    "#fig.set_title('Receiver Operating Characteristic (ROC) curves')\n",
    "\n",
    "ax_ab.set_title('Ada Boost ROC curve and AUC')\n",
    "ax_ab.grid(linestyle='--')\n",
    "\n",
    "ax_knn.set_title('KNNeighbours ROC curve and AUC')\n",
    "ax_knn.grid(linestyle='--')\n",
    "\n",
    "ax_lg.set_title('Logistic Regression ROC curve and AUC')\n",
    "ax_lg.grid(linestyle='--')\n",
    "\n",
    "plt.legend()\n",
    "plt.show()"
   ]
  },
  {
   "cell_type": "code",
   "execution_count": 26,
   "id": "75813fa4",
   "metadata": {},
   "outputs": [],
   "source": [
    "# Both predict and predict_proba can be used to calculate AUC\n",
    "# print(metrics.roc_auc_score(y_test, abclf1.predict_proba(X_test)[:, 1]))\n",
    "# print(metrics.roc_auc_score(y_test, abclf1.predict(X_test)))\n"
   ]
  },
  {
   "cell_type": "raw",
   "id": "9e307b17",
   "metadata": {},
   "source": [
    "Again in the graphics we see Logistic Regression is the best choice. The other two have a lousy performance. "
   ]
  },
  {
   "cell_type": "markdown",
   "id": "dc78b595",
   "metadata": {},
   "source": [
    "## Exercici 3\n",
    "Entrenar los modelos con otros parámetros"
   ]
  },
  {
   "cell_type": "code",
   "execution_count": 108,
   "id": "4c0acea5",
   "metadata": {},
   "outputs": [
    {
     "name": "stdout",
     "output_type": "stream",
     "text": [
      "Accuracy: 0.8930927193528314\n",
      "AUC: 0.5\n"
     ]
    },
    {
     "data": {
      "text/plain": [
       "0.5000846511972316"
      ]
     },
     "execution_count": 108,
     "metadata": {},
     "output_type": "execute_result"
    }
   ],
   "source": [
    "# Create Ada Boost classifer object with new parameters\n",
    "abclf2 = AdaBoostClassifier(n_estimators = 200, algorithm='SAMME', random_state=5)\n",
    "\n",
    "# Train Ada Boost Classifer\n",
    "abclf2 = abclf2.fit(X_train,y_train)\n",
    "\n",
    "#Predict the response for test dataset\n",
    "y_pred2 = abclf2.predict(X_test)\n",
    "\n",
    "# Model Accuracy, how often is the classifier correct?\n",
    "print(\"Accuracy:\",metrics.accuracy_score(y_test, y_pred2))\n",
    "print('AUC:', metrics.roc_auc_score(y_test, y_pred2))"
   ]
  },
  {
   "cell_type": "markdown",
   "id": "c7d8aa8e",
   "metadata": {},
   "source": [
    "There´s no improvement in accuracy with these parameters."
   ]
  },
  {
   "cell_type": "code",
   "execution_count": 28,
   "id": "e80526c0",
   "metadata": {},
   "outputs": [],
   "source": [
    "# Knn with different number of neighbours\n",
    "error = []\n",
    "\n",
    "# Calculating error for K values between 3 and 20\n",
    "for i in range(3, 20, 2):\n",
    "    knn = KNeighborsClassifier(n_neighbors=i)\n",
    "    knn.fit(X_train, y_train)\n",
    "    pred_i = knn.predict(X_test)\n",
    "    error.append(np.mean(pred_i != y_test))"
   ]
  },
  {
   "cell_type": "code",
   "execution_count": 29,
   "id": "c75103f3",
   "metadata": {},
   "outputs": [
    {
     "data": {
      "text/plain": [
       "Text(0, 0.5, 'Mean Error')"
      ]
     },
     "execution_count": 29,
     "metadata": {},
     "output_type": "execute_result"
    },
    {
     "data": {
      "image/png": "[encoded data removed]",
      "text/plain": [
       "<Figure size 648x360 with 1 Axes>"
      ]
     },
     "metadata": {
      "needs_background": "light"
     },
     "output_type": "display_data"
    }
   ],
   "source": [
    "# Plotting the mean error for each number of neighbours\n",
    "plt.figure(figsize=(9, 5))\n",
    "plt.plot(range(3, 20, 2), error, color='red', linestyle='dashed', marker='o',\n",
    "         markerfacecolor='blue', markersize=10)\n",
    "plt.title('Error Rate K Value')\n",
    "plt.xlabel('K Value')\n",
    "plt.ylabel('Mean Error')"
   ]
  },
  {
   "cell_type": "markdown",
   "id": "e2ebb5ad",
   "metadata": {},
   "source": [
    "Mean error seems lower for k greater than 14. Let´s see accuracy and AUC:"
   ]
  },
  {
   "cell_type": "code",
   "execution_count": 111,
   "id": "7c698144",
   "metadata": {},
   "outputs": [
    {
     "name": "stdout",
     "output_type": "stream",
     "text": [
      "Accuracy: 0.8918066791122173\n",
      "AUC: 0.49465244620284604\n"
     ]
    }
   ],
   "source": [
    "# Create and fit the model\n",
    "kn2 = KNeighborsClassifier(n_neighbors=15, weights = 'distance', n_jobs = -1)\n",
    "kn2 = kn2.fit(X_train, y_train)\n",
    ", \n",
    "y_pred_kn2= kn2.predict(X_test)\n",
    "\n",
    "# Model Accuracy, how often is the classifier correct?\n",
    "print(\"Accuracy:\",metrics.accuracy_score(y_test, y_pred_kn2))\n",
    "print('AUC:', metrics.roc_auc_score(y_test, kn2.predict_proba(X_test)[:, 1]))"
   ]
  },
  {
   "cell_type": "markdown",
   "id": "3fe44fc3",
   "metadata": {},
   "source": [
    "The difference with the original parameters is really small. "
   ]
  },
  {
   "cell_type": "code",
   "execution_count": 112,
   "id": "14747443",
   "metadata": {},
   "outputs": [
    {
     "name": "stdout",
     "output_type": "stream",
     "text": [
      "Accuracy: 0.8919311346193736\n",
      "AUC: 0.4948416485007946\n"
     ]
    }
   ],
   "source": [
    "# Create and fit the model\n",
    "kn3 = KNeighborsClassifier(n_neighbors=55, weights = 'distance', n_jobs = -1)\n",
    "kn3 = kn3.fit(X_train, y_train)\n",
    ", \n",
    "y_pred_kn3= kn3.predict(X_test)\n",
    "\n",
    "# Model Accuracy, how often is the classifier correct?\n",
    "print(\"Accuracy:\",metrics.accuracy_score(y_test, y_pred_kn3))\n",
    "print('AUC:', metrics.roc_auc_score(y_test, kn3.predict_proba(X_test)[:, 1]))"
   ]
  },
  {
   "cell_type": "raw",
   "id": "e9d4aa1d",
   "metadata": {},
   "source": [
    "It gets a little better with bigger numbers, but not in a significant way"
   ]
  },
  {
   "cell_type": "code",
   "execution_count": 114,
   "id": "c91cb3c2",
   "metadata": {},
   "outputs": [
    {
     "name": "stdout",
     "output_type": "stream",
     "text": [
      "[LibLinear]Accuracy: 0.9035054967848994\n",
      "AUC: 0.9292796567504582\n"
     ]
    }
   ],
   "source": [
    "# Logistic regression with different parameters\n",
    "logreg2 = LogisticRegression(max_iter=2000, solver= 'liblinear', verbose=1, random_state=4)\n",
    "\n",
    "# fit the model with data\n",
    "logreg2.fit(X_train_std, y_train)\n",
    "\n",
    "y_pred_lg=logreg2.predict(X_test_std)\n",
    "\n",
    "\n",
    "print(\"Accuracy:\",metrics.accuracy_score(y_test, y_pred_lg))\n",
    "print('AUC:', metrics.roc_auc_score(y_test, logreg2.predict_proba(X_test_std)[:, 1]))"
   ]
  },
  {
   "cell_type": "markdown",
   "id": "a7587a2a",
   "metadata": {},
   "source": [
    "The result is the same as before."
   ]
  },
  {
   "cell_type": "markdown",
   "id": "8694f56e",
   "metadata": {},
   "source": [
    "### Before Exercice 4, let´s add another model: Neural Network\n"
   ]
  },
  {
   "cell_type": "code",
   "execution_count": 120,
   "id": "d822ff49",
   "metadata": {},
   "outputs": [
    {
     "name": "stdout",
     "output_type": "stream",
     "text": [
      "Confussion Matrix: [[    0  5154]\n",
      " [    0 43056]]\n",
      "Classification report:               precision    recall  f1-score   support\n",
      "\n",
      "           0       0.00      0.00      0.00      5154\n",
      "           1       0.89      1.00      0.94     43056\n",
      "\n",
      "    accuracy                           0.89     48210\n",
      "   macro avg       0.45      0.50      0.47     48210\n",
      "weighted avg       0.80      0.89      0.84     48210\n",
      "\n",
      "AUC: 0.5\n"
     ]
    }
   ],
   "source": [
    "mlp = MLPClassifier(hidden_layer_sizes=(8,12,8), activation='relu', solver='adam', max_iter=500)\n",
    "mlp.fit(X_train,y_train)\n",
    "\n",
    "predict_test = mlp.predict(X_test)\n",
    "print('Confussion Matrix:', confusion_matrix(y_test,predict_test))\n",
    "print('Classification report:', classification_report(y_test,predict_test))\n",
    "print('AUC:', metrics.roc_auc_score(y_test, predict_test))"
   ]
  },
  {
   "cell_type": "markdown",
   "id": "3152f8e3",
   "metadata": {},
   "source": [
    "Accuracy is looking good, but we never get negative predictions! Also AUC is bad. Let´s change the size of the network."
   ]
  },
  {
   "cell_type": "code",
   "execution_count": 122,
   "id": "732439ca",
   "metadata": {},
   "outputs": [
    {
     "name": "stdout",
     "output_type": "stream",
     "text": [
      "Confussion Matrix: [[    0  5154]\n",
      " [    1 43055]]\n",
      "Classification report:               precision    recall  f1-score   support\n",
      "\n",
      "           0       0.00      0.00      0.00      5154\n",
      "           1       0.89      1.00      0.94     43056\n",
      "\n",
      "    accuracy                           0.89     48210\n",
      "   macro avg       0.45      0.50      0.47     48210\n",
      "weighted avg       0.80      0.89      0.84     48210\n",
      "\n",
      "AUC: 0.49998838721664807\n"
     ]
    }
   ],
   "source": [
    "mlp = MLPClassifier(hidden_layer_sizes=(200,820,200), activation='relu', solver='adam', max_iter=500)\n",
    "mlp.fit(X_train,y_train)\n",
    "\n",
    "predict_test = mlp.predict(X_test)\n",
    "print('Confussion Matrix:', confusion_matrix(y_test,predict_test))\n",
    "print('Classification report:', classification_report(y_test,predict_test))\n",
    "print('AUC:', metrics.roc_auc_score(y_test, predict_test))"
   ]
  },
  {
   "cell_type": "markdown",
   "id": "42fd8e75",
   "metadata": {},
   "source": [
    "Again, there is not much difference. "
   ]
  },
  {
   "cell_type": "markdown",
   "id": "db8335ae",
   "metadata": {},
   "source": [
    "### Exercici 4\n",
    "Comprar los modelos usando train / test o cross-validation"
   ]
  },
  {
   "cell_type": "markdown",
   "id": "32fb97d1",
   "metadata": {},
   "source": [
    "Until now the models were evaluated using train/test. In this exercice I'll use cross-validation   "
   ]
  },
  {
   "cell_type": "code",
   "execution_count": 35,
   "id": "b028482c",
   "metadata": {},
   "outputs": [
    {
     "name": "stdout",
     "output_type": "stream",
     "text": [
      "Accuracy for Ada Boost: 0.8465671022609417\n",
      "Accuracy for KNN: 0.826654221115951\n",
      "Accuracy for Logistic Regression: 0.9035054967848994\n"
     ]
    }
   ],
   "source": [
    "# With train/test we had:\n",
    "print('Accuracy for Ada Boost:', metrics.accuracy_score(y_test, y_pred1))\n",
    "print('Accuracy for KNN:', metrics.accuracy_score(y_test, y_pred_kn1))\n",
    "print('Accuracy for Logistic Regression:', metrics.accuracy_score(y_test, logreg.predict(X_test_std)))"
   ]
  },
  {
   "cell_type": "code",
   "execution_count": 36,
   "id": "3a3edd4a",
   "metadata": {},
   "outputs": [
    {
     "name": "stdout",
     "output_type": "stream",
     "text": [
      "Ada Boost: [0.2595863  0.91076429 0.90667413]\n",
      "KNNeighbours: [0.25835418 0.92000523 0.91752077]\n",
      "[LibLinear][LibLinear][LibLinear]Logistic Regression: [0.2595863  0.90381959 0.90131616]\n"
     ]
    }
   ],
   "source": [
    "# Evaluating the same models with cross-validation with 3 folds gives de following results:\n",
    "print('Ada Boost:', cross_val_score(abclf1, X, y, cv=3))\n",
    "print('KNNeighbours:', cross_val_score(kn1, X, y, cv=3))\n",
    "print('Logistic Regression:', cross_val_score(logreg, X_std, y, cv=3))  # this model was trained with standarized data"
   ]
  },
  {
   "cell_type": "markdown",
   "id": "eb7fd210",
   "metadata": {},
   "source": [
    "Seems that the models don´t work well. But could there be another reason for this results?"
   ]
  },
  {
   "cell_type": "code",
   "execution_count": 37,
   "id": "19e97ae2",
   "metadata": {},
   "outputs": [
    {
     "data": {
      "text/plain": [
       "[0, 0, 0, 0, 0, ..., 1, 1, 1, 1, 1]\n",
       "Length: 160697\n",
       "Categories (2, int64): [0 < 1]"
      ]
     },
     "execution_count": 37,
     "metadata": {},
     "output_type": "execute_result"
    }
   ],
   "source": [
    "y"
   ]
  },
  {
   "cell_type": "markdown",
   "id": "4f19edae",
   "metadata": {},
   "source": [
    "The data was sorted by ArrDelay in the beginning of the notebook. So the first fold has most 0 and the next ones have mostly 1. I need to shuffle the data. The folds need to be stratified, because there´s a lot more 1 than 0."
   ]
  },
  {
   "cell_type": "code",
   "execution_count": 38,
   "id": "27ca18af",
   "metadata": {},
   "outputs": [
    {
     "data": {
      "text/plain": [
       "3"
      ]
     },
     "execution_count": 38,
     "metadata": {},
     "output_type": "execute_result"
    }
   ],
   "source": [
    "# Stratified KFold with shuffle in True\n",
    "skf = StratifiedKFold(n_splits=3, shuffle=True, random_state=42)\n",
    "skf.get_n_splits(X, y)"
   ]
  },
  {
   "cell_type": "code",
   "execution_count": 39,
   "id": "f54577a5",
   "metadata": {},
   "outputs": [
    {
     "name": "stdout",
     "output_type": "stream",
     "text": [
      "Accuracy for Ada Boost for the fold no. 1 on the test set: 0.9055744315423963\n",
      "Accuracy for Ada Boost for the fold no. 2 on the test set: 0.9078146585520666\n",
      "Accuracy for Ada Boost for the fold no. 3 on the test set: 0.9051619527676654\n",
      "Accuracy for KNN for the fold no. 1 on the test set: 0.9196131874696636\n",
      "Accuracy for KNN for the fold no. 2 on the test set: 0.9208639808833962\n",
      "Accuracy for KNN for the fold no. 3 on the test set: 0.9191262951554187\n"
     ]
    }
   ],
   "source": [
    "i = 1\n",
    "for train_index, test_index in skf.split(X, y):\n",
    "    X_train_skf, X_test_skf = X[train_index], X[test_index]\n",
    "    y_train_skf, y_test_skf = y[train_index], y[test_index]\n",
    "    print(f\"Accuracy for Ada Boost for the fold no. {i} on the test set: {metrics.accuracy_score(y_test_skf, abclf1.predict(X_test_skf))}\")\n",
    "    i += 1\n",
    "    \n",
    "i = 1\n",
    "for train_index, test_index in skf.split(X, y):\n",
    "    X_train_skf, X_test_skf = X[train_index], X[test_index]\n",
    "    y_train_skf, y_test_skf = y[train_index], y[test_index]\n",
    "    print(f\"Accuracy for KNN for the fold no. {i} on the test set: {metrics.accuracy_score(y_test_skf, kn1.predict(X_test_skf))}\")\n",
    "    i += 1\n",
    "    "
   ]
  },
  {
   "cell_type": "markdown",
   "id": "2a9e090b",
   "metadata": {},
   "source": [
    "So the problem was not with the models but with the folds built by the cross-validation. In fact, the result is a little better than with train/test."
   ]
  },
  {
   "cell_type": "markdown",
   "id": "1c2c5738",
   "metadata": {},
   "source": [
    "## Exercici 5\n",
    "Realizar una ingeniería de variables para mejorar la predicción"
   ]
  },
  {
   "cell_type": "markdown",
   "id": "65d908ca",
   "metadata": {},
   "source": [
    "### Balancing data with SMOTE"
   ]
  },
  {
   "cell_type": "markdown",
   "id": "c3fde0b5",
   "metadata": {},
   "source": [
    "I believe the model can improve if the target is a balanced. At the moment we have:\n",
    "    "
   ]
  },
  {
   "cell_type": "code",
   "execution_count": 40,
   "id": "7648c43e",
   "metadata": {},
   "outputs": [
    {
     "data": {
      "text/plain": [
       "<AxesSubplot:title={'center':'Values of the target variable'}, ylabel='demorado'>"
      ]
     },
     "execution_count": 40,
     "metadata": {},
     "output_type": "execute_result"
    },
    {
     "data": {
      "image/png": "[encoded data removed]",
      "text/plain": [
       "<Figure size 432x288 with 1 Axes>"
      ]
     },
     "metadata": {},
     "output_type": "display_data"
    }
   ],
   "source": [
    "counts = df.demorado.value_counts()\n",
    "# use a pie plot\n",
    "counts.plot(kind='pie', y=df.demorado, title='Values of the target variable')"
   ]
  },
  {
   "cell_type": "code",
   "execution_count": 41,
   "id": "f6f7e49a",
   "metadata": {},
   "outputs": [],
   "source": [
    "# Apply SMOTE for varable balancing\n",
    "smote = SMOTE(random_state=1, sampling_strategy = 'minority')\n",
    "\n",
    "# Need more values 0 in \"demorado\" \n",
    "X_sm, y_sm = smote.fit_resample(X, y)\n",
    "\n"
   ]
  },
  {
   "cell_type": "code",
   "execution_count": 42,
   "id": "0481ab7c",
   "metadata": {},
   "outputs": [],
   "source": [
    "df_sm = pd.DataFrame(y_sm, columns =['demorado'])"
   ]
  },
  {
   "cell_type": "code",
   "execution_count": 43,
   "id": "64870c23",
   "metadata": {},
   "outputs": [
    {
     "data": {
      "text/plain": [
       "<AxesSubplot:title={'center':'Values of the target variable after SMOTE'}, ylabel='demorado'>"
      ]
     },
     "execution_count": 43,
     "metadata": {},
     "output_type": "execute_result"
    },
    {
     "data": {
      "image/png": "[encoded data removed]",
      "text/plain": [
       "<Figure size 432x288 with 1 Axes>"
      ]
     },
     "metadata": {},
     "output_type": "display_data"
    }
   ],
   "source": [
    "counts = df_sm.demorado.value_counts()\n",
    "# use a pie plot\n",
    "counts.plot(kind='pie', y=y_sm, title='Values of the target variable after SMOTE')"
   ]
  },
  {
   "cell_type": "code",
   "execution_count": 44,
   "id": "4b9760f3",
   "metadata": {},
   "outputs": [],
   "source": [
    "# Split dataset into training set and test set\n",
    "X_train_sm, X_test_sm, y_train_sm, y_test_sm = train_test_split(X_sm, y_sm, test_size=0.3, random_state=20)"
   ]
  },
  {
   "cell_type": "code",
   "execution_count": 126,
   "id": "91b17ea6",
   "metadata": {},
   "outputs": [
    {
     "name": "stdout",
     "output_type": "stream",
     "text": [
      "Accuracy: 0.8886168200438662\n"
     ]
    },
    {
     "data": {
      "text/plain": [
       "<sklearn.metrics._plot.roc_curve.RocCurveDisplay at 0x2c51e9b4a00>"
      ]
     },
     "execution_count": 126,
     "metadata": {},
     "output_type": "execute_result"
    },
    {
     "data": {
      "image/png": "[encoded data removed]",
      "text/plain": [
       "<Figure size 432x288 with 1 Axes>"
      ]
     },
     "metadata": {
      "needs_background": "light"
     },
     "output_type": "display_data"
    }
   ],
   "source": [
    "# Create Ada Boost classifer object with SMOTE\n",
    "ab2 = AdaBoostClassifier()\n",
    "\n",
    "# Train the Classifer\n",
    "ab2 = ab2.fit(X_train_sm,y_train_sm)\n",
    "\n",
    "#Predict the response for test dataset\n",
    "y_pred2 = ab2.predict(X_test_sm)\n",
    "\n",
    "# Model Accuracy, how often is the classifier correct?\n",
    "print(\"Accuracy:\",metrics.accuracy_score(y_test_sm, y_pred2))\n",
    "plot_roc_curve(ab2, X_test_sm, y_test_sm)"
   ]
  },
  {
   "cell_type": "raw",
   "id": "5247ea71",
   "metadata": {},
   "source": [
    "The result is much better!, both accuracy and AUC get better."
   ]
  },
  {
   "cell_type": "markdown",
   "id": "eb9cec76",
   "metadata": {},
   "source": [
    "###  Standarizing the SMOTE balanced data "
   ]
  },
  {
   "cell_type": "code",
   "execution_count": 125,
   "id": "1d11e938",
   "metadata": {},
   "outputs": [],
   "source": [
    "# Standarize the data for the model with SMOTE\n",
    "scaler = StandardScaler()\n",
    "\n",
    "X_train_sm_std = scaler.fit_transform(X_train_sm)\n",
    "X_test_sm_std = scaler.fit_transform(X_test_sm)"
   ]
  },
  {
   "cell_type": "code",
   "execution_count": 127,
   "id": "6169ad42",
   "metadata": {},
   "outputs": [
    {
     "name": "stdout",
     "output_type": "stream",
     "text": [
      "Accuracy: 0.8678209606480138\n"
     ]
    },
    {
     "data": {
      "text/plain": [
       "<sklearn.metrics._plot.roc_curve.RocCurveDisplay at 0x2c524c42f40>"
      ]
     },
     "execution_count": 127,
     "metadata": {},
     "output_type": "execute_result"
    },
    {
     "data": {
      "image/png": "[encoded data removed]",
      "text/plain": [
       "<Figure size 432x288 with 1 Axes>"
      ]
     },
     "metadata": {
      "needs_background": "light"
     },
     "output_type": "display_data"
    }
   ],
   "source": [
    "# Create Ada Boost classifer object with standarized data and SMOTE\n",
    "ab_std = AdaBoostClassifier()\n",
    "\n",
    "# Train the Classifer\n",
    "ab_std = ab_std.fit(X_train_sm_std,y_train_sm)\n",
    "\n",
    "#Predict the response for test dataset\n",
    "y_pred3 = ab_std.predict(X_test_sm_std)\n",
    "\n",
    "# Model Accuracy, how often is the classifier correct?\n",
    "print(\"Accuracy:\",metrics.accuracy_score(y_test_sm, y_pred3))\n",
    "plot_roc_curve(ab_std, X_test_sm_std, y_test_sm)"
   ]
  },
  {
   "cell_type": "markdown",
   "id": "ed173a96",
   "metadata": {},
   "source": [
    "A good result but not as good as the previous one"
   ]
  },
  {
   "cell_type": "markdown",
   "id": "02a2de73",
   "metadata": {},
   "source": [
    "### Use standarized data"
   ]
  },
  {
   "cell_type": "code",
   "execution_count": 128,
   "id": "51e03f88",
   "metadata": {
    "scrolled": true
   },
   "outputs": [
    {
     "name": "stdout",
     "output_type": "stream",
     "text": [
      "Accuracy: 0.9055175274839244\n"
     ]
    },
    {
     "data": {
      "text/plain": [
       "<sklearn.metrics._plot.roc_curve.RocCurveDisplay at 0x2c524c35460>"
      ]
     },
     "execution_count": 128,
     "metadata": {},
     "output_type": "execute_result"
    },
    {
     "data": {
      "image/png": "[encoded data removed]",
      "text/plain": [
       "<Figure size 432x288 with 1 Axes>"
      ]
     },
     "metadata": {
      "needs_background": "light"
     },
     "output_type": "display_data"
    }
   ],
   "source": [
    "# Create Ada Boost classifer object with standarized data only (SMOTE not applied)\n",
    "ab_std2 = AdaBoostClassifier()\n",
    "\n",
    "# Train the Classifer\n",
    "ab_std2 = ab_std2.fit(X_train_std,y_train)\n",
    "\n",
    "#Predict the response for test dataset\n",
    "y_pred4 = ab_std2.predict(X_test_std)\n",
    "\n",
    "# Model Accuracy, how often is the classifier correct?\n",
    "print(\"Accuracy:\",metrics.accuracy_score(y_test, y_pred4))\n",
    "plot_roc_curve(ab_std2, X_test_std, y_test)"
   ]
  },
  {
   "cell_type": "markdown",
   "id": "8deed097",
   "metadata": {},
   "source": [
    "Also a good result."
   ]
  },
  {
   "cell_type": "markdown",
   "id": "789d5b69",
   "metadata": {},
   "source": [
    "### Try with normalized data"
   ]
  },
  {
   "cell_type": "code",
   "execution_count": 49,
   "id": "c3a46b26",
   "metadata": {},
   "outputs": [],
   "source": [
    "# Normalizethe data for the model\n",
    "norm = Normalizer()\n",
    "\n",
    "X_train_n = scaler.fit_transform(X_train)\n",
    "X_test_n = scaler.fit_transform(X_test)"
   ]
  },
  {
   "cell_type": "code",
   "execution_count": 129,
   "id": "86ceabda",
   "metadata": {},
   "outputs": [
    {
     "name": "stdout",
     "output_type": "stream",
     "text": [
      "Accuracy: 0.8930512341837793\n"
     ]
    },
    {
     "data": {
      "text/plain": [
       "<sklearn.metrics._plot.roc_curve.RocCurveDisplay at 0x2c51e910070>"
      ]
     },
     "execution_count": 129,
     "metadata": {},
     "output_type": "execute_result"
    },
    {
     "data": {
      "image/png": "[encoded data removed]",
      "text/plain": [
       "<Figure size 432x288 with 1 Axes>"
      ]
     },
     "metadata": {
      "needs_background": "light"
     },
     "output_type": "display_data"
    }
   ],
   "source": [
    "# Create Ada Boost classifer object with normalized data\n",
    "ab_n = AdaBoostClassifier()\n",
    "\n",
    "# Train the Classifer\n",
    "ab_n = ab_n.fit(X_train_n,y_train)\n",
    "\n",
    "#Predict the response for test dataset\n",
    "y_pred5 = ab_n.predict(X_test_n)\n",
    "\n",
    "# Model Accuracy, how often is the classifier correct?\n",
    "print(\"Accuracy:\",metrics.accuracy_score(y_test, y_pred5))\n",
    "plot_roc_curve(ab_n, X_test_n, y_test)"
   ]
  },
  {
   "cell_type": "markdown",
   "id": "9014877a",
   "metadata": {},
   "source": [
    "Normalizing doesn´t seem like a good idea. "
   ]
  },
  {
   "cell_type": "markdown",
   "id": "b5c4c2db",
   "metadata": {},
   "source": [
    "### Apply PCA"
   ]
  },
  {
   "cell_type": "code",
   "execution_count": 51,
   "id": "52426960",
   "metadata": {},
   "outputs": [],
   "source": [
    "# use PCA to decrease feature dimension\n",
    "# instanciate PCA\n",
    "pca = PCA(n_components=0.95, svd_solver='full')\n",
    "X_train_PCA = pca.fit_transform(X_train)\n",
    "X_test_PCA = pca.fit_transform(X_test)\n"
   ]
  },
  {
   "cell_type": "code",
   "execution_count": 130,
   "id": "6e582ccf",
   "metadata": {},
   "outputs": [
    {
     "name": "stdout",
     "output_type": "stream",
     "text": [
      "Accuracy: 0.8930927193528314\n"
     ]
    },
    {
     "data": {
      "text/plain": [
       "<sklearn.metrics._plot.roc_curve.RocCurveDisplay at 0x2c524c621c0>"
      ]
     },
     "execution_count": 130,
     "metadata": {},
     "output_type": "execute_result"
    },
    {
     "data": {
      "image/png": "[encoded data removed]",
      "text/plain": [
       "<Figure size 432x288 with 1 Axes>"
      ]
     },
     "metadata": {
      "needs_background": "light"
     },
     "output_type": "display_data"
    }
   ],
   "source": [
    "# Create Ada Boost classifer object with PCA modified data (95% accuracy)\n",
    "ab_PCA = AdaBoostClassifier()\n",
    "\n",
    "# Train the Classifer\n",
    "ab_PCA = ab_PCA.fit(X_train_PCA,y_train)\n",
    "\n",
    "#Predict the response for test dataset\n",
    "y_pred6 = ab_PCA.predict(X_test_PCA)\n",
    "\n",
    "# Model Accuracy, how often is the classifier correct?\n",
    "print(\"Accuracy:\",metrics.accuracy_score(y_test, y_pred6))\n",
    "plot_roc_curve(ab_PCA, X_test_PCA, y_test)"
   ]
  },
  {
   "cell_type": "markdown",
   "id": "fbf810f3",
   "metadata": {},
   "source": [
    "Again the same result, no improvement."
   ]
  },
  {
   "cell_type": "markdown",
   "id": "487f59bb",
   "metadata": {},
   "source": [
    "### Reduce outliers"
   ]
  },
  {
   "cell_type": "code",
   "execution_count": 53,
   "id": "c6c88fd3",
   "metadata": {},
   "outputs": [
    {
     "data": {
      "text/plain": [
       "DepDelay             12657\n",
       "Distance              8130\n",
       "TaxiIn                8369\n",
       "TaxiOut              10677\n",
       "CarrierDelay         22120\n",
       "WeatherDelay          8394\n",
       "NASDelay             24935\n",
       "SecurityDelay          496\n",
       "LateAircraftDelay    19263\n",
       "dtype: int64"
      ]
     },
     "execution_count": 53,
     "metadata": {},
     "output_type": "execute_result"
    }
   ],
   "source": [
    "# Count outliers for every variable\n",
    "Q1 = df[feature_cols].quantile(0.25)\n",
    "Q3 = df[feature_cols].quantile(0.75)\n",
    "IQR = Q3 - Q1\n",
    "    \n",
    "outliers_bool = (df[feature_cols] < (Q1 - 1.5 * IQR)) |(df[feature_cols] > (Q3 + 1.5 * IQR))\n",
    "outliers = outliers_bool.sum(axis=0)\n",
    "outliers"
   ]
  },
  {
   "cell_type": "code",
   "execution_count": 54,
   "id": "fe9b2633",
   "metadata": {},
   "outputs": [
    {
     "data": {
      "text/plain": [
       "DepDelay             7.876\n",
       "Distance             5.059\n",
       "TaxiIn               5.208\n",
       "TaxiOut              6.644\n",
       "CarrierDelay        13.765\n",
       "WeatherDelay         5.223\n",
       "NASDelay            15.517\n",
       "SecurityDelay        0.309\n",
       "LateAircraftDelay   11.987\n",
       "dtype: float64"
      ]
     },
     "execution_count": 54,
     "metadata": {},
     "output_type": "execute_result"
    }
   ],
   "source": [
    "# They represent x% of the values:\n",
    "100* outliers / df.shape[0]"
   ]
  },
  {
   "cell_type": "code",
   "execution_count": 148,
   "id": "5e2532a3",
   "metadata": {},
   "outputs": [
    {
     "data": {
      "text/html": [
       "<div>\n",
       "<style scoped>\n",
       "    .dataframe tbody tr th:only-of-type {\n",
       "        vertical-align: middle;\n",
       "    }\n",
       "\n",
       "    .dataframe tbody tr th {\n",
       "        vertical-align: top;\n",
       "    }\n",
       "\n",
       "    .dataframe thead th {\n",
       "        text-align: right;\n",
       "    }\n",
       "</style>\n",
       "<table border=\"1\" class=\"dataframe\">\n",
       "  <thead>\n",
       "    <tr style=\"text-align: right;\">\n",
       "      <th></th>\n",
       "      <th>DepDelay</th>\n",
       "      <th>Distance</th>\n",
       "      <th>TaxiIn</th>\n",
       "      <th>TaxiOut</th>\n",
       "      <th>CarrierDelay</th>\n",
       "      <th>WeatherDelay</th>\n",
       "      <th>NASDelay</th>\n",
       "      <th>SecurityDelay</th>\n",
       "      <th>LateAircraftDelay</th>\n",
       "      <th>demorado</th>\n",
       "      <th>XXXDelay</th>\n",
       "    </tr>\n",
       "  </thead>\n",
       "  <tbody>\n",
       "    <tr>\n",
       "      <th>497550</th>\n",
       "      <td>7.000</td>\n",
       "      <td>2148</td>\n",
       "      <td>8.000</td>\n",
       "      <td>10.000</td>\n",
       "      <td>0.000</td>\n",
       "      <td>0.000</td>\n",
       "      <td>0.000</td>\n",
       "      <td>0.000</td>\n",
       "      <td>0.000</td>\n",
       "      <td>0</td>\n",
       "      <td>0.000</td>\n",
       "    </tr>\n",
       "    <tr>\n",
       "      <th>1731259</th>\n",
       "      <td>9.000</td>\n",
       "      <td>1989</td>\n",
       "      <td>6.000</td>\n",
       "      <td>20.000</td>\n",
       "      <td>0.000</td>\n",
       "      <td>0.000</td>\n",
       "      <td>0.000</td>\n",
       "      <td>0.000</td>\n",
       "      <td>0.000</td>\n",
       "      <td>0</td>\n",
       "      <td>0.000</td>\n",
       "    </tr>\n",
       "    <tr>\n",
       "      <th>1916451</th>\n",
       "      <td>10.000</td>\n",
       "      <td>2465</td>\n",
       "      <td>3.000</td>\n",
       "      <td>18.000</td>\n",
       "      <td>0.000</td>\n",
       "      <td>0.000</td>\n",
       "      <td>0.000</td>\n",
       "      <td>0.000</td>\n",
       "      <td>0.000</td>\n",
       "      <td>0</td>\n",
       "      <td>0.000</td>\n",
       "    </tr>\n",
       "    <tr>\n",
       "      <th>47306</th>\n",
       "      <td>10.000</td>\n",
       "      <td>766</td>\n",
       "      <td>7.000</td>\n",
       "      <td>28.000</td>\n",
       "      <td>0.000</td>\n",
       "      <td>0.000</td>\n",
       "      <td>0.000</td>\n",
       "      <td>0.000</td>\n",
       "      <td>0.000</td>\n",
       "      <td>0</td>\n",
       "      <td>0.000</td>\n",
       "    </tr>\n",
       "    <tr>\n",
       "      <th>182763</th>\n",
       "      <td>6.000</td>\n",
       "      <td>1989</td>\n",
       "      <td>4.000</td>\n",
       "      <td>25.000</td>\n",
       "      <td>0.000</td>\n",
       "      <td>0.000</td>\n",
       "      <td>0.000</td>\n",
       "      <td>0.000</td>\n",
       "      <td>0.000</td>\n",
       "      <td>0</td>\n",
       "      <td>0.000</td>\n",
       "    </tr>\n",
       "    <tr>\n",
       "      <th>...</th>\n",
       "      <td>...</td>\n",
       "      <td>...</td>\n",
       "      <td>...</td>\n",
       "      <td>...</td>\n",
       "      <td>...</td>\n",
       "      <td>...</td>\n",
       "      <td>...</td>\n",
       "      <td>...</td>\n",
       "      <td>...</td>\n",
       "      <td>...</td>\n",
       "      <td>...</td>\n",
       "    </tr>\n",
       "    <tr>\n",
       "      <th>517183</th>\n",
       "      <td>1193.000</td>\n",
       "      <td>1399</td>\n",
       "      <td>5.000</td>\n",
       "      <td>27.000</td>\n",
       "      <td>5.000</td>\n",
       "      <td>0.000</td>\n",
       "      <td>0.000</td>\n",
       "      <td>0.000</td>\n",
       "      <td>1184.000</td>\n",
       "      <td>1</td>\n",
       "      <td>1189.000</td>\n",
       "    </tr>\n",
       "    <tr>\n",
       "      <th>1655337</th>\n",
       "      <td>1240.000</td>\n",
       "      <td>1454</td>\n",
       "      <td>4.000</td>\n",
       "      <td>15.000</td>\n",
       "      <td>1230.000</td>\n",
       "      <td>0.000</td>\n",
       "      <td>0.000</td>\n",
       "      <td>0.000</td>\n",
       "      <td>0.000</td>\n",
       "      <td>1</td>\n",
       "      <td>1230.000</td>\n",
       "    </tr>\n",
       "    <tr>\n",
       "      <th>1025817</th>\n",
       "      <td>1287.000</td>\n",
       "      <td>1175</td>\n",
       "      <td>8.000</td>\n",
       "      <td>21.000</td>\n",
       "      <td>1165.000</td>\n",
       "      <td>0.000</td>\n",
       "      <td>2.000</td>\n",
       "      <td>0.000</td>\n",
       "      <td>122.000</td>\n",
       "      <td>1</td>\n",
       "      <td>1289.000</td>\n",
       "    </tr>\n",
       "    <tr>\n",
       "      <th>1027010</th>\n",
       "      <td>1358.000</td>\n",
       "      <td>1300</td>\n",
       "      <td>5.000</td>\n",
       "      <td>11.000</td>\n",
       "      <td>1344.000</td>\n",
       "      <td>0.000</td>\n",
       "      <td>0.000</td>\n",
       "      <td>0.000</td>\n",
       "      <td>0.000</td>\n",
       "      <td>1</td>\n",
       "      <td>1344.000</td>\n",
       "    </tr>\n",
       "    <tr>\n",
       "      <th>521096</th>\n",
       "      <td>1490.000</td>\n",
       "      <td>200</td>\n",
       "      <td>5.000</td>\n",
       "      <td>14.000</td>\n",
       "      <td>1490.000</td>\n",
       "      <td>0.000</td>\n",
       "      <td>0.000</td>\n",
       "      <td>0.000</td>\n",
       "      <td>0.000</td>\n",
       "      <td>1</td>\n",
       "      <td>1490.000</td>\n",
       "    </tr>\n",
       "  </tbody>\n",
       "</table>\n",
       "<p>160697 rows × 11 columns</p>\n",
       "</div>"
      ],
      "text/plain": [
       "         DepDelay  Distance  TaxiIn  TaxiOut  CarrierDelay  WeatherDelay  \\\n",
       "497550      7.000      2148   8.000   10.000         0.000         0.000   \n",
       "1731259     9.000      1989   6.000   20.000         0.000         0.000   \n",
       "1916451    10.000      2465   3.000   18.000         0.000         0.000   \n",
       "47306      10.000       766   7.000   28.000         0.000         0.000   \n",
       "182763      6.000      1989   4.000   25.000         0.000         0.000   \n",
       "...           ...       ...     ...      ...           ...           ...   \n",
       "517183   1193.000      1399   5.000   27.000         5.000         0.000   \n",
       "1655337  1240.000      1454   4.000   15.000      1230.000         0.000   \n",
       "1025817  1287.000      1175   8.000   21.000      1165.000         0.000   \n",
       "1027010  1358.000      1300   5.000   11.000      1344.000         0.000   \n",
       "521096   1490.000       200   5.000   14.000      1490.000         0.000   \n",
       "\n",
       "         NASDelay  SecurityDelay  LateAircraftDelay demorado  XXXDelay  \n",
       "497550      0.000          0.000              0.000        0     0.000  \n",
       "1731259     0.000          0.000              0.000        0     0.000  \n",
       "1916451     0.000          0.000              0.000        0     0.000  \n",
       "47306       0.000          0.000              0.000        0     0.000  \n",
       "182763      0.000          0.000              0.000        0     0.000  \n",
       "...           ...            ...                ...      ...       ...  \n",
       "517183      0.000          0.000           1184.000        1  1189.000  \n",
       "1655337     0.000          0.000              0.000        1  1230.000  \n",
       "1025817     2.000          0.000            122.000        1  1289.000  \n",
       "1027010     0.000          0.000              0.000        1  1344.000  \n",
       "521096      0.000          0.000              0.000        1  1490.000  \n",
       "\n",
       "[160697 rows x 11 columns]"
      ]
     },
     "execution_count": 148,
     "metadata": {},
     "output_type": "execute_result"
    }
   ],
   "source": [
    "# Create a new Delay variable in a copy, not to loose df\n",
    "df_red = df.copy()\n",
    "df_red['XXXDelay'] = df.CarrierDelay + df.WeatherDelay + df.NASDelay + df.SecurityDelay + df.LateAircraftDelay\n",
    "df_red"
   ]
  },
  {
   "cell_type": "code",
   "execution_count": 149,
   "id": "52946441",
   "metadata": {},
   "outputs": [],
   "source": [
    "df_red.drop(['CarrierDelay', 'WeatherDelay', 'NASDelay', 'SecurityDelay', 'LateAircraftDelay'], 1, inplace = True)"
   ]
  },
  {
   "cell_type": "code",
   "execution_count": 150,
   "id": "377f6561",
   "metadata": {},
   "outputs": [
    {
     "name": "stdout",
     "output_type": "stream",
     "text": [
      "Index(['DepDelay', 'Distance', 'TaxiIn', 'TaxiOut', 'demorado', 'XXXDelay'], dtype='object')\n"
     ]
    },
    {
     "data": {
      "text/html": [
       "<div>\n",
       "<style scoped>\n",
       "    .dataframe tbody tr th:only-of-type {\n",
       "        vertical-align: middle;\n",
       "    }\n",
       "\n",
       "    .dataframe tbody tr th {\n",
       "        vertical-align: top;\n",
       "    }\n",
       "\n",
       "    .dataframe thead th {\n",
       "        text-align: right;\n",
       "    }\n",
       "</style>\n",
       "<table border=\"1\" class=\"dataframe\">\n",
       "  <thead>\n",
       "    <tr style=\"text-align: right;\">\n",
       "      <th></th>\n",
       "      <th>DepDelay</th>\n",
       "      <th>Distance</th>\n",
       "      <th>TaxiIn</th>\n",
       "      <th>TaxiOut</th>\n",
       "      <th>XXXDelay</th>\n",
       "    </tr>\n",
       "  </thead>\n",
       "  <tbody>\n",
       "    <tr>\n",
       "      <th>497550</th>\n",
       "      <td>7.000</td>\n",
       "      <td>2148</td>\n",
       "      <td>8.000</td>\n",
       "      <td>10.000</td>\n",
       "      <td>0.000</td>\n",
       "    </tr>\n",
       "    <tr>\n",
       "      <th>1731259</th>\n",
       "      <td>9.000</td>\n",
       "      <td>1989</td>\n",
       "      <td>6.000</td>\n",
       "      <td>20.000</td>\n",
       "      <td>0.000</td>\n",
       "    </tr>\n",
       "    <tr>\n",
       "      <th>1916451</th>\n",
       "      <td>10.000</td>\n",
       "      <td>2465</td>\n",
       "      <td>3.000</td>\n",
       "      <td>18.000</td>\n",
       "      <td>0.000</td>\n",
       "    </tr>\n",
       "    <tr>\n",
       "      <th>47306</th>\n",
       "      <td>10.000</td>\n",
       "      <td>766</td>\n",
       "      <td>7.000</td>\n",
       "      <td>28.000</td>\n",
       "      <td>0.000</td>\n",
       "    </tr>\n",
       "    <tr>\n",
       "      <th>182763</th>\n",
       "      <td>6.000</td>\n",
       "      <td>1989</td>\n",
       "      <td>4.000</td>\n",
       "      <td>25.000</td>\n",
       "      <td>0.000</td>\n",
       "    </tr>\n",
       "    <tr>\n",
       "      <th>...</th>\n",
       "      <td>...</td>\n",
       "      <td>...</td>\n",
       "      <td>...</td>\n",
       "      <td>...</td>\n",
       "      <td>...</td>\n",
       "    </tr>\n",
       "    <tr>\n",
       "      <th>517183</th>\n",
       "      <td>1193.000</td>\n",
       "      <td>1399</td>\n",
       "      <td>5.000</td>\n",
       "      <td>27.000</td>\n",
       "      <td>1189.000</td>\n",
       "    </tr>\n",
       "    <tr>\n",
       "      <th>1655337</th>\n",
       "      <td>1240.000</td>\n",
       "      <td>1454</td>\n",
       "      <td>4.000</td>\n",
       "      <td>15.000</td>\n",
       "      <td>1230.000</td>\n",
       "    </tr>\n",
       "    <tr>\n",
       "      <th>1025817</th>\n",
       "      <td>1287.000</td>\n",
       "      <td>1175</td>\n",
       "      <td>8.000</td>\n",
       "      <td>21.000</td>\n",
       "      <td>1289.000</td>\n",
       "    </tr>\n",
       "    <tr>\n",
       "      <th>1027010</th>\n",
       "      <td>1358.000</td>\n",
       "      <td>1300</td>\n",
       "      <td>5.000</td>\n",
       "      <td>11.000</td>\n",
       "      <td>1344.000</td>\n",
       "    </tr>\n",
       "    <tr>\n",
       "      <th>521096</th>\n",
       "      <td>1490.000</td>\n",
       "      <td>200</td>\n",
       "      <td>5.000</td>\n",
       "      <td>14.000</td>\n",
       "      <td>1490.000</td>\n",
       "    </tr>\n",
       "  </tbody>\n",
       "</table>\n",
       "<p>160697 rows × 5 columns</p>\n",
       "</div>"
      ],
      "text/plain": [
       "         DepDelay  Distance  TaxiIn  TaxiOut  XXXDelay\n",
       "497550      7.000      2148   8.000   10.000     0.000\n",
       "1731259     9.000      1989   6.000   20.000     0.000\n",
       "1916451    10.000      2465   3.000   18.000     0.000\n",
       "47306      10.000       766   7.000   28.000     0.000\n",
       "182763      6.000      1989   4.000   25.000     0.000\n",
       "...           ...       ...     ...      ...       ...\n",
       "517183   1193.000      1399   5.000   27.000  1189.000\n",
       "1655337  1240.000      1454   4.000   15.000  1230.000\n",
       "1025817  1287.000      1175   8.000   21.000  1289.000\n",
       "1027010  1358.000      1300   5.000   11.000  1344.000\n",
       "521096   1490.000       200   5.000   14.000  1490.000\n",
       "\n",
       "[160697 rows x 5 columns]"
      ]
     },
     "execution_count": 150,
     "metadata": {},
     "output_type": "execute_result"
    }
   ],
   "source": [
    "columns = df_red.columns\n",
    "print(columns)\n",
    "columns = columns.delete(4)\n",
    "df_red[columns]"
   ]
  },
  {
   "cell_type": "code",
   "execution_count": 151,
   "id": "1986c58c",
   "metadata": {},
   "outputs": [
    {
     "data": {
      "text/plain": [
       "DepDelay    12657\n",
       "Distance     8130\n",
       "TaxiIn       8369\n",
       "TaxiOut     10677\n",
       "XXXDelay     9111\n",
       "dtype: int64"
      ]
     },
     "execution_count": 151,
     "metadata": {},
     "output_type": "execute_result"
    }
   ],
   "source": [
    "# Count outliers for every variable\n",
    "Q1 = df_red[columns].quantile(0.25)\n",
    "Q3 = df_red[columns].quantile(0.75)\n",
    "IQR = Q3 - Q1\n",
    "    \n",
    "outliers_bool = (df_red[columns] < (Q1 - 1.5 * IQR)) |(df_red[columns] > (Q3 + 1.5 * IQR))\n",
    "outliers = outliers_bool.sum(axis=0)\n",
    "outliers"
   ]
  },
  {
   "cell_type": "code",
   "execution_count": 152,
   "id": "228d9b6f",
   "metadata": {},
   "outputs": [
    {
     "data": {
      "text/plain": [
       "DepDelay   7.876\n",
       "Distance   5.059\n",
       "TaxiIn     5.208\n",
       "TaxiOut    6.644\n",
       "XXXDelay   5.670\n",
       "dtype: float64"
      ]
     },
     "execution_count": 152,
     "metadata": {},
     "output_type": "execute_result"
    }
   ],
   "source": [
    "# They represent x% of the values:\n",
    "100* outliers / df.shape[0]"
   ]
  },
  {
   "cell_type": "code",
   "execution_count": 153,
   "id": "0b7bad66",
   "metadata": {},
   "outputs": [],
   "source": [
    "# Split into train and test\n",
    "X_red = df_red[columns].values # Features\n",
    "y_red = df_red.demorado.values # Target variable\n",
    "\n",
    "# Split dataset into training set and test set, taking equivalent values of 'demorado' in each group\n",
    "X_train_red, X_test_red, y_train_red, y_test_red = train_test_split(X_red, y_red, test_size=0.3, random_state=1, stratify =df.demorado)"
   ]
  },
  {
   "cell_type": "markdown",
   "id": "c8724713",
   "metadata": {},
   "source": [
    "I have less percentage of outliers now. Let´s apply the model now."
   ]
  },
  {
   "cell_type": "code",
   "execution_count": 154,
   "id": "1f31de96",
   "metadata": {},
   "outputs": [
    {
     "name": "stdout",
     "output_type": "stream",
     "text": [
      "Accuracy: 0.9053723293922423\n"
     ]
    },
    {
     "data": {
      "text/plain": [
       "<sklearn.metrics._plot.roc_curve.RocCurveDisplay at 0x2c52cf1d4f0>"
      ]
     },
     "execution_count": 154,
     "metadata": {},
     "output_type": "execute_result"
    },
    {
     "data": {
      "image/png": "[encoded data removed]",
      "text/plain": [
       "<Figure size 432x288 with 1 Axes>"
      ]
     },
     "metadata": {
      "needs_background": "light"
     },
     "output_type": "display_data"
    }
   ],
   "source": [
    "# Create Ada Boost classifer object with less outliers\n",
    "ab_red = AdaBoostClassifier()\n",
    "\n",
    "# Train the Classifer\n",
    "ab_red = ab_red.fit(X_train_red,y_train_red)\n",
    "\n",
    "#Predict the response for test dataset\n",
    "y_pred7 = ab_red.predict(X_test_red)\n",
    "\n",
    "# Model Accuracy, how often is the classifier correct?\n",
    "print(\"Accuracy:\",metrics.accuracy_score(y_test_red, y_pred7))\n",
    "plot_roc_curve(ab_red, X_test_red, y_test_red)"
   ]
  },
  {
   "cell_type": "markdown",
   "id": "f950227a",
   "metadata": {},
   "source": [
    "This approach is also good!!"
   ]
  },
  {
   "cell_type": "markdown",
   "id": "9081af03",
   "metadata": {},
   "source": [
    "## Exercici 6\n",
    "\n",
    "No utilizar la variable DepDelay"
   ]
  },
  {
   "cell_type": "code",
   "execution_count": 155,
   "id": "eb53418b",
   "metadata": {},
   "outputs": [],
   "source": [
    "df_red.drop(['DepDelay'],1 , inplace=True)"
   ]
  },
  {
   "cell_type": "code",
   "execution_count": 158,
   "id": "9cfab0ac",
   "metadata": {},
   "outputs": [
    {
     "data": {
      "text/html": [
       "<div>\n",
       "<style scoped>\n",
       "    .dataframe tbody tr th:only-of-type {\n",
       "        vertical-align: middle;\n",
       "    }\n",
       "\n",
       "    .dataframe tbody tr th {\n",
       "        vertical-align: top;\n",
       "    }\n",
       "\n",
       "    .dataframe thead th {\n",
       "        text-align: right;\n",
       "    }\n",
       "</style>\n",
       "<table border=\"1\" class=\"dataframe\">\n",
       "  <thead>\n",
       "    <tr style=\"text-align: right;\">\n",
       "      <th></th>\n",
       "      <th>Distance</th>\n",
       "      <th>TaxiIn</th>\n",
       "      <th>TaxiOut</th>\n",
       "      <th>XXXDelay</th>\n",
       "    </tr>\n",
       "  </thead>\n",
       "  <tbody>\n",
       "    <tr>\n",
       "      <th>497550</th>\n",
       "      <td>2148</td>\n",
       "      <td>8.000</td>\n",
       "      <td>10.000</td>\n",
       "      <td>0.000</td>\n",
       "    </tr>\n",
       "    <tr>\n",
       "      <th>1731259</th>\n",
       "      <td>1989</td>\n",
       "      <td>6.000</td>\n",
       "      <td>20.000</td>\n",
       "      <td>0.000</td>\n",
       "    </tr>\n",
       "    <tr>\n",
       "      <th>1916451</th>\n",
       "      <td>2465</td>\n",
       "      <td>3.000</td>\n",
       "      <td>18.000</td>\n",
       "      <td>0.000</td>\n",
       "    </tr>\n",
       "    <tr>\n",
       "      <th>47306</th>\n",
       "      <td>766</td>\n",
       "      <td>7.000</td>\n",
       "      <td>28.000</td>\n",
       "      <td>0.000</td>\n",
       "    </tr>\n",
       "    <tr>\n",
       "      <th>182763</th>\n",
       "      <td>1989</td>\n",
       "      <td>4.000</td>\n",
       "      <td>25.000</td>\n",
       "      <td>0.000</td>\n",
       "    </tr>\n",
       "    <tr>\n",
       "      <th>...</th>\n",
       "      <td>...</td>\n",
       "      <td>...</td>\n",
       "      <td>...</td>\n",
       "      <td>...</td>\n",
       "    </tr>\n",
       "    <tr>\n",
       "      <th>517183</th>\n",
       "      <td>1399</td>\n",
       "      <td>5.000</td>\n",
       "      <td>27.000</td>\n",
       "      <td>1189.000</td>\n",
       "    </tr>\n",
       "    <tr>\n",
       "      <th>1655337</th>\n",
       "      <td>1454</td>\n",
       "      <td>4.000</td>\n",
       "      <td>15.000</td>\n",
       "      <td>1230.000</td>\n",
       "    </tr>\n",
       "    <tr>\n",
       "      <th>1025817</th>\n",
       "      <td>1175</td>\n",
       "      <td>8.000</td>\n",
       "      <td>21.000</td>\n",
       "      <td>1289.000</td>\n",
       "    </tr>\n",
       "    <tr>\n",
       "      <th>1027010</th>\n",
       "      <td>1300</td>\n",
       "      <td>5.000</td>\n",
       "      <td>11.000</td>\n",
       "      <td>1344.000</td>\n",
       "    </tr>\n",
       "    <tr>\n",
       "      <th>521096</th>\n",
       "      <td>200</td>\n",
       "      <td>5.000</td>\n",
       "      <td>14.000</td>\n",
       "      <td>1490.000</td>\n",
       "    </tr>\n",
       "  </tbody>\n",
       "</table>\n",
       "<p>160697 rows × 4 columns</p>\n",
       "</div>"
      ],
      "text/plain": [
       "         Distance  TaxiIn  TaxiOut  XXXDelay\n",
       "497550       2148   8.000   10.000     0.000\n",
       "1731259      1989   6.000   20.000     0.000\n",
       "1916451      2465   3.000   18.000     0.000\n",
       "47306         766   7.000   28.000     0.000\n",
       "182763       1989   4.000   25.000     0.000\n",
       "...           ...     ...      ...       ...\n",
       "517183       1399   5.000   27.000  1189.000\n",
       "1655337      1454   4.000   15.000  1230.000\n",
       "1025817      1175   8.000   21.000  1289.000\n",
       "1027010      1300   5.000   11.000  1344.000\n",
       "521096        200   5.000   14.000  1490.000\n",
       "\n",
       "[160697 rows x 4 columns]"
      ]
     },
     "execution_count": 158,
     "metadata": {},
     "output_type": "execute_result"
    }
   ],
   "source": [
    "y = df_red['demorado']\n",
    "X = df_red.drop(['demorado'],1)\n",
    "X"
   ]
  },
  {
   "cell_type": "code",
   "execution_count": 159,
   "id": "44bbc361",
   "metadata": {},
   "outputs": [],
   "source": [
    "# Apply SMOTE for varable balancing\n",
    "smote = SMOTE(random_state=1, sampling_strategy = 'minority')\n",
    "\n",
    "# Need more values 0 in \"demorado\" \n",
    "X_sm, y_sm = smote.fit_resample(X, y)\n"
   ]
  },
  {
   "cell_type": "code",
   "execution_count": 160,
   "id": "101b5cc4",
   "metadata": {},
   "outputs": [],
   "source": [
    "# Split dataset into training set and test set\n",
    "X_train_sm, X_test_sm, y_train_sm, y_test_sm = train_test_split(X_sm, y_sm, test_size=0.3, random_state=20)"
   ]
  },
  {
   "cell_type": "code",
   "execution_count": 162,
   "id": "4e77ea16",
   "metadata": {},
   "outputs": [
    {
     "name": "stdout",
     "output_type": "stream",
     "text": [
      "Accuracy: 0.8682039201123348\n"
     ]
    },
    {
     "data": {
      "text/plain": [
       "<sklearn.metrics._plot.roc_curve.RocCurveDisplay at 0x2c526a2a9a0>"
      ]
     },
     "execution_count": 162,
     "metadata": {},
     "output_type": "execute_result"
    },
    {
     "data": {
      "image/png": "[encoded data removed]",
      "text/plain": [
       "<Figure size 432x288 with 1 Axes>"
      ]
     },
     "metadata": {
      "needs_background": "light"
     },
     "output_type": "display_data"
    }
   ],
   "source": [
    "# Create Ada Boost classifer object\n",
    "ab8 = AdaBoostClassifier()\n",
    "\n",
    "# Train the Classifer\n",
    "ab8 = ab8.fit(X_train_sm,y_train_sm)\n",
    "\n",
    "#Predict the response for test dataset\n",
    "y_pred8 = ab8.predict(X_test_sm)\n",
    "\n",
    "# Model Accuracy, how often is the classifier correct?\n",
    "print(\"Accuracy:\",metrics.accuracy_score(y_test_sm, y_pred8))\n",
    "plot_roc_curve(ab8, X_test_sm, y_test_sm)"
   ]
  },
  {
   "cell_type": "markdown",
   "id": "e690da55",
   "metadata": {},
   "source": [
    "The model predicts quite well, even though it doesnt´have DepDelay"
   ]
  }
 ],
 "metadata": {
  "kernelspec": {
   "display_name": "Python 3",
   "language": "python",
   "name": "python3"
  },
  "language_info": {
   "codemirror_mode": {
    "name": "ipython",
    "version": 3
   },
   "file_extension": ".py",
   "mimetype": "text/x-python",
   "name": "python",
   "nbconvert_exporter": "python",
   "pygments_lexer": "ipython3",
   "version": "3.8.8"
  }
 },
 "nbformat": 4,
 "nbformat_minor": 5
}
